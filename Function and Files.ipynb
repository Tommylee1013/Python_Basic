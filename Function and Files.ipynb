{
 "cells": [
  {
   "cell_type": "markdown",
   "id": "1245d14c",
   "metadata": {},
   "source": [
    "## Function and Files\n",
    "\n",
    "### Function\n",
    "\n",
    "<br>\n",
    "\n",
    "**함수(function)**는 **특정 작업을 수행하는 명령어들의 모임**에 이름을 붙인 것이다\n",
    "- 함수는 작업에 필요한 데이터를 전달받을 수 있으며, 작업이 완료 된 후에는 작업의 결과를 호출자에게 반환할 수 있다\n",
    "- 자주 사용되는 부분 문제를 함수로 작성하면 코드를 **반복 작성할 필요가 없기 때문에 편리**하며, 호출하여 재사용하면 된다\n",
    "- 파이썬에서 지원하는 세 종류의 함수\n",
    "    - 내장(Built-in) 함수 : 파이썬에서 제공하는 함수\n",
    "        - 파이썬 설치 후 사용 가능(print(  ), input(  ), len(  ), type(  ) .....)\n",
    "    - 라이브러리 패키지 : 파이썬에서 제공하는 모듈(import 문)\n",
    "        - 해당 모듈을 프로그램에 포함한(loading)후에 사용할 수 있다\n",
    "    - 사용자 정의(User-defined) 함수\n",
    "        - 사용자가 자신의 필요에 따라 특정 기능의 함수를 직접 작성해서 쓴다"
   ]
  },
  {
   "cell_type": "code",
   "execution_count": 47,
   "id": "ac6f2a96",
   "metadata": {},
   "outputs": [
    {
     "data": {
      "text/plain": [
       "6"
      ]
     },
     "execution_count": 47,
     "metadata": {},
     "output_type": "execute_result"
    }
   ],
   "source": [
    "def plus_one(n) :\n",
    "    result = n + 1\n",
    "    return result"
   ]
  },
  {
   "cell_type": "code",
   "execution_count": 48,
   "id": "ecfce18c",
   "metadata": {},
   "outputs": [
    {
     "name": "stdout",
     "output_type": "stream",
     "text": [
      "123\n"
     ]
    }
   ],
   "source": [
    "print('123')"
   ]
  },
  {
   "cell_type": "code",
   "execution_count": 1,
   "id": "302640db",
   "metadata": {},
   "outputs": [
    {
     "name": "stdout",
     "output_type": "stream",
     "text": [
      "this is function\n"
     ]
    }
   ],
   "source": [
    "print('this is function') # print function"
   ]
  },
  {
   "cell_type": "code",
   "execution_count": 2,
   "id": "24dc65cd",
   "metadata": {},
   "outputs": [
    {
     "data": {
      "text/plain": [
       "3.14"
      ]
     },
     "execution_count": 2,
     "metadata": {},
     "output_type": "execute_result"
    }
   ],
   "source": [
    "round(3.141592, 2) # round function"
   ]
  },
  {
   "cell_type": "code",
   "execution_count": 3,
   "id": "55e9fefa",
   "metadata": {},
   "outputs": [
    {
     "data": {
      "text/plain": [
       "'1'"
      ]
     },
     "execution_count": 3,
     "metadata": {},
     "output_type": "execute_result"
    }
   ],
   "source": [
    "str(1) # str function"
   ]
  },
  {
   "cell_type": "code",
   "execution_count": 4,
   "id": "2111d125",
   "metadata": {},
   "outputs": [
    {
     "data": {
      "text/plain": [
       "100"
      ]
     },
     "execution_count": 4,
     "metadata": {},
     "output_type": "execute_result"
    }
   ],
   "source": [
    "int('100') # int function"
   ]
  },
  {
   "cell_type": "code",
   "execution_count": 5,
   "id": "14e32f2c",
   "metadata": {},
   "outputs": [
    {
     "data": {
      "text/plain": [
       "[1, 2, 3, 4, 5]"
      ]
     },
     "execution_count": 5,
     "metadata": {},
     "output_type": "execute_result"
    }
   ],
   "source": [
    "list((1,2,3,4,5)) # list function"
   ]
  },
  {
   "cell_type": "code",
   "execution_count": 49,
   "id": "1591dba9",
   "metadata": {},
   "outputs": [
    {
     "data": {
      "text/plain": [
       "(1, 2)"
      ]
     },
     "execution_count": 49,
     "metadata": {},
     "output_type": "execute_result"
    }
   ],
   "source": [
    "tuple([1,2]) # tuple"
   ]
  },
  {
   "cell_type": "markdown",
   "id": "0ab27fe6",
   "metadata": {},
   "source": [
    "**type 함수**\n",
    "- 대상에 대한 type을 출력한다. 대상의 type을 알고 싶으면 type을 호출해보면 알 수 있다"
   ]
  },
  {
   "cell_type": "code",
   "execution_count": 6,
   "id": "d0cd7d49",
   "metadata": {},
   "outputs": [
    {
     "data": {
      "text/plain": [
       "int"
      ]
     },
     "execution_count": 6,
     "metadata": {},
     "output_type": "execute_result"
    }
   ],
   "source": [
    "type(1) # type function"
   ]
  },
  {
   "cell_type": "code",
   "execution_count": 7,
   "id": "a624fad1",
   "metadata": {},
   "outputs": [
    {
     "data": {
      "text/plain": [
       "str"
      ]
     },
     "execution_count": 7,
     "metadata": {},
     "output_type": "execute_result"
    }
   ],
   "source": [
    "type('FINDA')"
   ]
  },
  {
   "cell_type": "code",
   "execution_count": 8,
   "id": "9ff992f2",
   "metadata": {},
   "outputs": [
    {
     "data": {
      "text/plain": [
       "builtin_function_or_method"
      ]
     },
     "execution_count": 8,
     "metadata": {},
     "output_type": "execute_result"
    }
   ],
   "source": [
    "type(dir)"
   ]
  },
  {
   "cell_type": "markdown",
   "id": "e46aae35",
   "metadata": {},
   "source": [
    "**id 함수**\n",
    "- 인자로 받은 parameter의 식별값을 구한다. python interpreter는 모든 대상체에 대해서 식별값을 부여한다. id 함수는 이 식별값을 구해준다."
   ]
  },
  {
   "cell_type": "code",
   "execution_count": 9,
   "id": "a8323852",
   "metadata": {},
   "outputs": [
    {
     "data": {
      "text/plain": [
       "140680885775568"
      ]
     },
     "execution_count": 9,
     "metadata": {},
     "output_type": "execute_result"
    }
   ],
   "source": [
    "id(3.14)"
   ]
  },
  {
   "cell_type": "code",
   "execution_count": 10,
   "id": "b789a3e0",
   "metadata": {},
   "outputs": [
    {
     "data": {
      "text/plain": [
       "140680313076784"
      ]
     },
     "execution_count": 10,
     "metadata": {},
     "output_type": "execute_result"
    }
   ],
   "source": [
    "id('FINDA')"
   ]
  },
  {
   "cell_type": "markdown",
   "id": "c7317b2d",
   "metadata": {},
   "source": [
    "**sorted 함수**\n",
    "- sorted 함수는 반복 가능한 데이터를 입력 받아서 정렬된 리스트로 반환한다\n",
    "- key는 정렬한 기준을 넘겨준다. 만약 정렬기준이 없으면 기본 정렬 기준을 이용한다\n",
    "- reverse는 역순 정렬 시킬 것인지의 여부를 알려주는 인자이다"
   ]
  },
  {
   "cell_type": "code",
   "execution_count": 55,
   "id": "050f0451",
   "metadata": {},
   "outputs": [
    {
     "data": {
      "text/plain": [
       "[1, 2, 3, 4, 5]"
      ]
     },
     "execution_count": 55,
     "metadata": {},
     "output_type": "execute_result"
    }
   ],
   "source": [
    "numbers = [2,3,1,5,4]\n",
    "sorted_numbers = sorted(numbers)\n",
    "sorted_numbers # 오름차순 정렬"
   ]
  },
  {
   "cell_type": "code",
   "execution_count": 12,
   "id": "7511e480",
   "metadata": {},
   "outputs": [
    {
     "data": {
      "text/plain": [
       "[5, 4, 3, 2, 1]"
      ]
     },
     "execution_count": 12,
     "metadata": {},
     "output_type": "execute_result"
    }
   ],
   "source": [
    "reverse_sorted_numbers = sorted(numbers, reverse = True)\n",
    "reverse_sorted_numbers # 내림차순 정렬"
   ]
  },
  {
   "cell_type": "code",
   "execution_count": 56,
   "id": "cc6389aa",
   "metadata": {},
   "outputs": [
    {
     "data": {
      "text/plain": [
       "[1, 2, 3, 4, 5]"
      ]
     },
     "execution_count": 56,
     "metadata": {},
     "output_type": "execute_result"
    }
   ],
   "source": [
    "numbers = [2,3,1,5,4]\n",
    "sorted(numbers)"
   ]
  },
  {
   "cell_type": "code",
   "execution_count": 58,
   "id": "60f30259",
   "metadata": {},
   "outputs": [],
   "source": [
    "numbers.sort()"
   ]
  },
  {
   "cell_type": "code",
   "execution_count": 59,
   "id": "128bbeb0",
   "metadata": {},
   "outputs": [
    {
     "data": {
      "text/plain": [
       "[1, 2, 3, 4, 5]"
      ]
     },
     "execution_count": 59,
     "metadata": {},
     "output_type": "execute_result"
    }
   ],
   "source": [
    "numbers # 함수의 결과가 저장되지는 않는다"
   ]
  },
  {
   "cell_type": "code",
   "execution_count": 60,
   "id": "80281600",
   "metadata": {},
   "outputs": [],
   "source": [
    "colors = ['red','green','blue','yellow']"
   ]
  },
  {
   "cell_type": "code",
   "execution_count": 64,
   "id": "d070855f",
   "metadata": {},
   "outputs": [
    {
     "data": {
      "text/plain": [
       "['yellow', 'red', 'green', 'blue']"
      ]
     },
     "execution_count": 64,
     "metadata": {},
     "output_type": "execute_result"
    }
   ],
   "source": [
    "sorted_colors = sorted(colors, reverse = True) # 사전 알파벳 순으로 정렬된다\n",
    "sorted_colors"
   ]
  },
  {
   "cell_type": "code",
   "execution_count": 62,
   "id": "7ec8135c",
   "metadata": {},
   "outputs": [
    {
     "data": {
      "text/plain": [
       "['red', 'blue', 'green', 'yellow']"
      ]
     },
     "execution_count": 62,
     "metadata": {},
     "output_type": "execute_result"
    }
   ],
   "source": [
    "len_sorted_colors = sorted(colors, key = len) # argument key로 정렬 기준 지정이 가능하다\n",
    "len_sorted_colors"
   ]
  },
  {
   "cell_type": "code",
   "execution_count": 63,
   "id": "8df27959",
   "metadata": {},
   "outputs": [
    {
     "data": {
      "text/plain": [
       "['yellow', 'green', 'blue', 'red']"
      ]
     },
     "execution_count": 63,
     "metadata": {},
     "output_type": "execute_result"
    }
   ],
   "source": [
    "reverse_len_sorted_colors = sorted(colors, key = len, reverse = True)\n",
    "reverse_len_sorted_colors"
   ]
  },
  {
   "cell_type": "markdown",
   "id": "a801b72b",
   "metadata": {},
   "source": [
    "#### Library(Package) Function\n",
    "- python에서는 함수들을 기능별로 패키지 혹은 모듈에 포함시켜서 제공한다\n",
    "- 모듈이란 python 코드를 포함하고 있는 파일을 말한다\n",
    "- 모듈들을 묶어서 package라고 한다\n",
    "- python을 설치하면 많은 Library(package)와 모듈들이 설치되고 각 라이브러리 및 모듈마다 많은 수의 함수들이 포함되어 있다\n",
    "- 기본 라이브러리에서 제공되지 않는 것은 추가의 라이브러리를 설치해서 사용할 수 있다"
   ]
  },
  {
   "cell_type": "markdown",
   "id": "ffaf3312",
   "metadata": {},
   "source": [
    "#### import 예약어\n",
    "- 라이브러리나 모듈을 포함시킨다\n",
    "- import *Library/Module*\n",
    "- import *Library/Module* as *Lib/Mod*\n",
    "    - 라이브러리나 모듈을 축약된 이름으로 바꿔서 포함시킨다. 이 경우 축약이름으로 사용해야 한다\n",
    "- from *Library/Module* import *func*\n",
    "    - 라이브러리나 모듈로부터 몇몇 대상체만을 포함시킨다\n",
    "    - 이 경우 대상체의 사용은 대상체명을 이용해서 사용한다\n",
    "- from *Library/Module* import *\n",
    "    - 라이브러리나 모듈 내에 포함된 모든 대상체를 import 한다\n",
    "    - 이 경우 대상체의 사용은 대상체의 이름을 이용해서 사용한다\n",
    "    - 다만, 함수간 충돌이 일어날 가능성이 크기 때문에 사용하지 않는것이 좋다"
   ]
  },
  {
   "cell_type": "code",
   "execution_count": 65,
   "id": "e151e401",
   "metadata": {},
   "outputs": [
    {
     "data": {
      "text/plain": [
       "['__doc__',\n",
       " '__file__',\n",
       " '__loader__',\n",
       " '__name__',\n",
       " '__package__',\n",
       " '__spec__',\n",
       " 'acos',\n",
       " 'acosh',\n",
       " 'asin',\n",
       " 'asinh',\n",
       " 'atan',\n",
       " 'atan2',\n",
       " 'atanh',\n",
       " 'ceil',\n",
       " 'comb',\n",
       " 'copysign',\n",
       " 'cos',\n",
       " 'cosh',\n",
       " 'degrees',\n",
       " 'dist',\n",
       " 'e',\n",
       " 'erf',\n",
       " 'erfc',\n",
       " 'exp',\n",
       " 'expm1',\n",
       " 'fabs',\n",
       " 'factorial',\n",
       " 'floor',\n",
       " 'fmod',\n",
       " 'frexp',\n",
       " 'fsum',\n",
       " 'gamma',\n",
       " 'gcd',\n",
       " 'hypot',\n",
       " 'inf',\n",
       " 'isclose',\n",
       " 'isfinite',\n",
       " 'isinf',\n",
       " 'isnan',\n",
       " 'isqrt',\n",
       " 'lcm',\n",
       " 'ldexp',\n",
       " 'lgamma',\n",
       " 'log',\n",
       " 'log10',\n",
       " 'log1p',\n",
       " 'log2',\n",
       " 'modf',\n",
       " 'nan',\n",
       " 'nextafter',\n",
       " 'perm',\n",
       " 'pi',\n",
       " 'pow',\n",
       " 'prod',\n",
       " 'radians',\n",
       " 'remainder',\n",
       " 'sin',\n",
       " 'sinh',\n",
       " 'sqrt',\n",
       " 'tan',\n",
       " 'tanh',\n",
       " 'tau',\n",
       " 'trunc',\n",
       " 'ulp']"
      ]
     },
     "execution_count": 65,
     "metadata": {},
     "output_type": "execute_result"
    }
   ],
   "source": [
    "dir(math)"
   ]
  },
  {
   "cell_type": "code",
   "execution_count": 18,
   "id": "70efd3d8",
   "metadata": {},
   "outputs": [
    {
     "data": {
      "text/plain": [
       "1.4142135623730951"
      ]
     },
     "execution_count": 18,
     "metadata": {},
     "output_type": "execute_result"
    }
   ],
   "source": [
    "import math # module import (library import)\n",
    "math.sqrt(2) # module function"
   ]
  },
  {
   "cell_type": "code",
   "execution_count": 66,
   "id": "87c6c03e",
   "metadata": {},
   "outputs": [
    {
     "data": {
      "text/plain": [
       "1.4142135623730951"
      ]
     },
     "execution_count": 66,
     "metadata": {},
     "output_type": "execute_result"
    }
   ],
   "source": [
    "import math as m\n",
    "m.sqrt(2)"
   ]
  },
  {
   "cell_type": "code",
   "execution_count": 19,
   "id": "58cf2fe7",
   "metadata": {},
   "outputs": [
    {
     "data": {
      "text/plain": [
       "1.2246467991473532e-16"
      ]
     },
     "execution_count": 19,
     "metadata": {},
     "output_type": "execute_result"
    }
   ],
   "source": [
    "from math import sin, log, pi, e\n",
    "sin(pi)"
   ]
  },
  {
   "cell_type": "code",
   "execution_count": 20,
   "id": "bc7a24d2",
   "metadata": {},
   "outputs": [
    {
     "data": {
      "text/plain": [
       "1.0"
      ]
     },
     "execution_count": 20,
     "metadata": {},
     "output_type": "execute_result"
    }
   ],
   "source": [
    "log(e)"
   ]
  },
  {
   "cell_type": "markdown",
   "id": "9915e036",
   "metadata": {},
   "source": [
    "#### os Library\n",
    "- os 라이브러리는 운영체제 관련 속성, 함수, 및 클래스들을 포함하고 있다\n",
    "\n",
    "#### sys Library\n",
    "- sys 라이브러리는 파이썬 시스템 관련 속성, 함수, 및 클래스들을 포함하고 있다"
   ]
  },
  {
   "cell_type": "code",
   "execution_count": 21,
   "id": "c5f1eea7",
   "metadata": {},
   "outputs": [
    {
     "data": {
      "text/plain": [
       "['CLD_CONTINUED', 'CLD_DUMPED', 'CLD_EXITED', 'CLD_KILLED', 'CLD_STOPPED']"
      ]
     },
     "execution_count": 21,
     "metadata": {},
     "output_type": "execute_result"
    }
   ],
   "source": [
    "import os\n",
    "\n",
    "dir(os)[:5] # dir함수를 쓰면 라이브러리의 속성을 볼 수 있다"
   ]
  },
  {
   "cell_type": "code",
   "execution_count": 22,
   "id": "a53b0dde",
   "metadata": {},
   "outputs": [
    {
     "data": {
      "text/plain": [
       "['__breakpointhook__',\n",
       " '__displayhook__',\n",
       " '__doc__',\n",
       " '__excepthook__',\n",
       " '__interactivehook__']"
      ]
     },
     "execution_count": 22,
     "metadata": {},
     "output_type": "execute_result"
    }
   ],
   "source": [
    "import sys\n",
    "\n",
    "dir(sys)[:5]"
   ]
  },
  {
   "cell_type": "markdown",
   "id": "3c16c687",
   "metadata": {},
   "source": [
    "#### 사용자 정의 함수\n",
    "\n",
    "- 함수를 작성하는 이유는 크게 두 가지로 볼 수 있다.\n",
    "    - <span style = 'color : #132c6f'><b>특정의 기능을 수행하는 코드들을 하나의 묶음</b></span>으로 사용하기 위해 함수를 사용한다.\n",
    "    - <span style = 'color : #132c6f'><b>동일한 기능을 수행하는 코드들의 재사용성을 높이고 코드의 통일된 관리</b></span>를 하기 위해 함수를 작성한다.\n",
    "\n",
    "<br>\n",
    "<pre><b>def</b> function_name(parameters) :\n",
    "<pre><i>\"\"\"docstring\"\"\"</i>\n",
    "statements\n",
    "<b>return</b> ret_values</pre></pre>\n",
    "    \n",
    "- 함수 작성 (함수 정의)\n",
    "- def:함수의 시작을 알린다\n",
    "    - 함수 이름(function_name) : identifier(변수) 규칙대로 이름 정의\n",
    "- parameters(매개변수)\n",
    "    1. 함수의 입력 값(콤마로 분리), 필요하지 않으면 괄호만 표시한다\n",
    "    2. 함수 호출시 전달하는 데이터는 함수의 매개변수로 전달된다\n",
    "    3. 함수 호출시 전달하는 데이터를 인수(arguments)라 한다\n",
    "- \"\"\"docstring\"\"\" : 주석 (함수 설명), 생략도 가능하다\n",
    "- return: 실행 결과를 호출한 코드로 반환, 반환값이 없으면 생략한다\n",
    "\n",
    "#### 함수 호출하기\n",
    "\n",
    "- 프로그램에서 함수를 사용하려면 함수를 호출(call)하여야 한다\n",
    "- 함수 호출시 데이터(값,정보)를 지정하여 함수에 전달할 수 있다\n",
    "    - 이 데이터를 **인수(argument)**라고 함 (위치에 따른 인수 전달 방식)\n",
    "- 인수와 매개변수는 함수 호출 시에 데이터를 주고받기 위하여 필요 하며, 함수가 호출될 때마다 인수는 함수의 매개변수로 전달된다\n",
    "    - **인수(argument)** : 호출 프로그램에 의하여 함수에 전달되는 값\n",
    "    - **매개 변수(parameter)** : 함수에서 인수를 전달받는 변수\n",
    "- 한번 정의된 함수는 필요시 반복해서 호출할 수 있다 (단, shell을 한번 종료하면 다시 실행시켜야 한다)\n",
    "- 함수가 호출되는 시점에서 실행의 흐름은 함수로 넘어가며, 함수 종료 후에는 호출된 곳으로 돌아온다\n",
    "- 파이썬 코드에서는 **들여쓰기 하지 않은 첫 명령어부터 실행**되며 이를 main 함수로 간주한다"
   ]
  },
  {
   "cell_type": "code",
   "execution_count": 68,
   "id": "237a0c8f",
   "metadata": {},
   "outputs": [
    {
     "name": "stdout",
     "output_type": "stream",
     "text": [
      "null function\n",
      "null function\n",
      "0\n"
     ]
    }
   ],
   "source": [
    "def null() :\n",
    "    print('null function')\n",
    "    return 0\n",
    "    \n",
    "null() # function calling\n",
    "a = null() # function calling\n",
    "print(a) # return값 저장 후 출력"
   ]
  },
  {
   "cell_type": "code",
   "execution_count": 24,
   "id": "5b2bfc58",
   "metadata": {},
   "outputs": [],
   "source": [
    "def test_function(arg) :\n",
    "    \"\"\"This is docstring\"\"\" # 함수의 주석\n",
    "    \n",
    "    print('function calling')\n",
    "    temp = str(arg) * 2 # 함수 내에 다른 함수 호출 가능\n",
    "    # temp를 지역변수 (local variable)이라고 함\n",
    "    return temp"
   ]
  },
  {
   "cell_type": "code",
   "execution_count": 69,
   "id": "5167df60",
   "metadata": {},
   "outputs": [
    {
     "name": "stdout",
     "output_type": "stream",
     "text": [
      "function calling\n",
      "11\n"
     ]
    }
   ],
   "source": [
    "test = test_function(1) # function calling\n",
    "print(test) # test에 return값이 저장됨"
   ]
  },
  {
   "cell_type": "code",
   "execution_count": 70,
   "id": "fc638a0d",
   "metadata": {},
   "outputs": [
    {
     "name": "stdout",
     "output_type": "stream",
     "text": [
      "Help on function test_function in module __main__:\n",
      "\n",
      "test_function(arg)\n",
      "    This is docstring\n",
      "\n"
     ]
    }
   ],
   "source": [
    "help(test_function) # Docstring 확인 가능"
   ]
  },
  {
   "cell_type": "markdown",
   "id": "270079f3",
   "metadata": {},
   "source": [
    "### Exercise 1.\n",
    "소수 판별 알고리즘을 함수로 만들어 보자"
   ]
  },
  {
   "cell_type": "code",
   "execution_count": 73,
   "id": "c0d816fa",
   "metadata": {},
   "outputs": [],
   "source": [
    "def prime_number_1(x) :\n",
    "    plag = True # boolean data\n",
    "    for i in range(2, x) : \n",
    "        if x % i == 0 : plag = False # 2 이상의 수에서 만약 나누어 떨어지면 소수가 아니다\n",
    "\n",
    "    if plag == True : print('Prime Number')\n",
    "    else : print('Not Prime Number')"
   ]
  },
  {
   "cell_type": "code",
   "execution_count": 27,
   "id": "c1020691",
   "metadata": {},
   "outputs": [],
   "source": [
    "def prime_number(num) :\n",
    "    plag = True\n",
    "    for i in range(2, num) : \n",
    "        if num % i == 0 : plag = False \n",
    "\n",
    "    if plag == True : print('Prime Number')\n",
    "    else : print('Not Prime Number')"
   ]
  },
  {
   "cell_type": "code",
   "execution_count": 74,
   "id": "d4fba015",
   "metadata": {},
   "outputs": [
    {
     "name": "stdout",
     "output_type": "stream",
     "text": [
      "Not Prime Number\n"
     ]
    }
   ],
   "source": [
    "prime_number_1(100)"
   ]
  },
  {
   "cell_type": "code",
   "execution_count": 75,
   "id": "099977e0",
   "metadata": {},
   "outputs": [
    {
     "name": "stdout",
     "output_type": "stream",
     "text": [
      "Prime Number\n"
     ]
    }
   ],
   "source": [
    "prime_number_1(7)"
   ]
  },
  {
   "cell_type": "markdown",
   "id": "ef149345",
   "metadata": {},
   "source": [
    "#### argument가 두 개인 경우"
   ]
  },
  {
   "cell_type": "code",
   "execution_count": 76,
   "id": "80915723",
   "metadata": {},
   "outputs": [],
   "source": [
    "def print_sum(n1, n2) :\n",
    "    result = n1 + n2\n",
    "    print('The result is %i' % int(result))\n",
    "    return result"
   ]
  },
  {
   "cell_type": "code",
   "execution_count": 31,
   "id": "fabc4cea",
   "metadata": {},
   "outputs": [
    {
     "name": "stdout",
     "output_type": "stream",
     "text": [
      "The result is 8\n"
     ]
    },
    {
     "data": {
      "text/plain": [
       "8"
      ]
     },
     "execution_count": 31,
     "metadata": {},
     "output_type": "execute_result"
    }
   ],
   "source": [
    "print_sum(3,5)"
   ]
  },
  {
   "cell_type": "markdown",
   "id": "9ac248b6",
   "metadata": {},
   "source": [
    "#### 두개의 반환값을 return하는 함수"
   ]
  },
  {
   "cell_type": "code",
   "execution_count": 32,
   "id": "086fadfe",
   "metadata": {},
   "outputs": [],
   "source": [
    "def circle_area_circumference(radius, pi) :\n",
    "    area = pi * (radius ** 2)\n",
    "    circumference = 2 * pi * radius\n",
    "    return area, circumference"
   ]
  },
  {
   "cell_type": "code",
   "execution_count": 33,
   "id": "04743347",
   "metadata": {},
   "outputs": [
    {
     "data": {
      "text/plain": [
       "(28.26, 18.84)"
      ]
     },
     "execution_count": 33,
     "metadata": {},
     "output_type": "execute_result"
    }
   ],
   "source": [
    "circle_area_circumference(3, 3.14) # tuple의 형태로 출력된다"
   ]
  },
  {
   "cell_type": "code",
   "execution_count": 34,
   "id": "48b312f9",
   "metadata": {},
   "outputs": [
    {
     "name": "stdout",
     "output_type": "stream",
     "text": [
      "반지름 : 3  면적과 둘레 : (28.26, 18.84)\n",
      "반지름 : 3 면적 : 28.273500000000002 둘레 : 18.849\n"
     ]
    }
   ],
   "source": [
    "result = circle_area_circumference(3, 3.14)\n",
    "print('반지름 :', 3, ' 면적과 둘레 :', result)\n",
    "res1, res2 = circle_area_circumference(3, 3.1415)\n",
    "print('반지름 :', 3, '면적 :', res1, '둘레 :', res2)"
   ]
  },
  {
   "cell_type": "markdown",
   "id": "5c1b501f",
   "metadata": {},
   "source": [
    "python에서는 함수의 결과로 여러 개의 값을 반환할 수 있다. return 다음에 적어주며, 반환값을 tuple의 형태로 돌려준다.\n",
    "\n",
    "tuple을 그대로 이용할 수도 있고, **unpacking**해서 각 요소를 구해 이용 가능하다. (split해서 사용가능하다)"
   ]
  },
  {
   "cell_type": "markdown",
   "id": "4a247aea",
   "metadata": {},
   "source": [
    "### Parameter\n",
    "- General parameter, Default parameter, Keyword parameter, Variable parameter\n",
    "- 일반 인자는 호출시에 위치가 매우 중요하다\n",
    "- 함수 호출 시에 넣어준 인자 순서대로 인자값이 함수에 전달된다. 이는 가장 많이 사용되는 함수 인자 전달 방식이다\n",
    "- python에서는 일반 인자 이외에도 <span style = 'color : #134f2c'><b>특별한 인자 전달 방식</b></span>을 제공한다\n",
    "    - 기본인자, 키워드 인자, 가변인자, 정의되지 않은 인자"
   ]
  },
  {
   "cell_type": "markdown",
   "id": "82020c2b",
   "metadata": {},
   "source": [
    "#### Default parameter\n",
    "- 함수를 호출할 때 <span style = 'color : #132c6f'><b>인자의 값을 설정해 주지 않아도 기본 값이 할당</b></span>되도록 하는 인자이다\n",
    "- 기본 인자는 일반 인자 뒤에 위치한다"
   ]
  },
  {
   "cell_type": "code",
   "execution_count": 77,
   "id": "0651c783",
   "metadata": {},
   "outputs": [
    {
     "name": "stdout",
     "output_type": "stream",
     "text": [
      "미래가치 : 1000, 만기 : 5년, 금리 : 0.03, 현재가치 : 862.61\n",
      "미래가치 : 1000, 만기 : 5년, 금리 : 0.05, 현재가치 : 783.5262\n"
     ]
    }
   ],
   "source": [
    "def future_to_present(future, year, interest = 0.03) : # default value 0.03 지정\n",
    "    present = future / (1 + interest) ** year \n",
    "    return present\n",
    "\n",
    "print('미래가치 : %d, 만기 : %d년, 금리 : 0.03, 현재가치 : %.2f' % (1000, 5, future_to_present(1000, 5)))\n",
    "print('미래가치 : %d, 만기 : %d년, 금리 : 0.05, 현재가치 : %.4f' % (1000, 5, future_to_present(1000, 5, 0.05)))"
   ]
  },
  {
   "cell_type": "markdown",
   "id": "94c70ae5",
   "metadata": {},
   "source": [
    "#### Keyword parameter\n",
    "- 함수에 인자 값을 전달할 때 <span style = 'color : #132c6f'><b>인자의 이름으로 인자 값을 전달</b></span>하는 방법이다\n",
    "- 키워드 인자는 일반 인자 뒤에 나온다\n",
    "- <span style = 'color : #760c0c'>키워드 인자 이후에는 순서에 의한 인자 매칭을 할 수 없다</span>"
   ]
  },
  {
   "cell_type": "code",
   "execution_count": 80,
   "id": "79ce1d20",
   "metadata": {},
   "outputs": [
    {
     "name": "stdout",
     "output_type": "stream",
     "text": [
      "미래가치 : 1000, 만기 : 5년, 금리 : 0.03, 현재가치 : 862.61\n",
      "미래가치 : 1000, 만기 : 5년, 금리 : 0.05, 현재가치 : 783.5262\n"
     ]
    }
   ],
   "source": [
    "def future_to_present(future, year, interest = 0.03) : # default value 0.03 지정\n",
    "    present = future / (1 + interest) ** year \n",
    "    return present\n",
    "\n",
    "print('미래가치 : %d, 만기 : %d년, 금리 : 0.03, 현재가치 : %.2f' \n",
    "      % (1000, 5, future_to_present(1000, year = 5)))\n",
    "print('미래가치 : %d, 만기 : %d년, 금리 : 0.05, 현재가치 : %.4f' \n",
    "      % (1000, 5, future_to_present(year = 5, interest = 0.05, future = 1000)))\n",
    "# 키워드 인자를 쓰기 시작하면, 더이상 순서에 의한 매칭을 기대할 수 없다"
   ]
  },
  {
   "cell_type": "markdown",
   "id": "cf76af0b",
   "metadata": {},
   "source": [
    "#### Variable parameter\n",
    "- 개수에 제한이 없다\n",
    "- 함수를 정의할 때, <span style = 'color : #132c6f'><b>함수 인자 앞에 *을 붙이면 정해지지 않은 수의 인자를 받겠다는 뜻</b></span>이다\n",
    "- 가변 인자 리스트는 입력 받은 인자를 tuple에 저장한다"
   ]
  },
  {
   "cell_type": "code",
   "execution_count": 37,
   "id": "5f816eb8",
   "metadata": {},
   "outputs": [
    {
     "name": "stdout",
     "output_type": "stream",
     "text": [
      "[28.26, 50.24, 78.5]\n",
      "[113.04, 153.86]\n"
     ]
    }
   ],
   "source": [
    "def circle_area(pi, *radiuses) :\n",
    "    areas = []\n",
    "    for radius in radiuses :\n",
    "        area = pi * (radius ** 2)\n",
    "        areas.append(area)\n",
    "    return areas\n",
    "\n",
    "print(circle_area(3.14, 3, 4, 5))\n",
    "print(circle_area(3.14, 6, 7))"
   ]
  },
  {
   "cell_type": "code",
   "execution_count": 38,
   "id": "f034b5d8",
   "metadata": {},
   "outputs": [
    {
     "name": "stdout",
     "output_type": "stream",
     "text": [
      "[28.26, 50.24, 78.5]\n",
      "[113.04, 153.86]\n"
     ]
    }
   ],
   "source": [
    "def circle_area(pi, *radiuses) :\n",
    "    areas = []\n",
    "    \n",
    "    for radius in radiuses :\n",
    "        area = pi * (radius ** 2)\n",
    "        areas.append(area)\n",
    "        \n",
    "    return areas\n",
    "\n",
    "print(circle_area(3.14, *(3,4,5))) # tuple앞에 *를 붙이면 가변 인자의 형태로 넘어간다\n",
    "print(circle_area(3.14, *(6,7)))"
   ]
  },
  {
   "cell_type": "markdown",
   "id": "a3a115bd",
   "metadata": {},
   "source": [
    "#### Undefined Parameter\n",
    "- python에서는 함수에 정의되지 않은 인자들을 함수에 전달할 수 있다\n",
    "- **정의되지 않은 인자는 사전 형식으로 전달되며**, 함수에서 정의되지 않은 인자를 받을 때는 인자 앞에 ** 를 붙여서 받는다\n",
    "- 일반인자, 가변인자, 정의되지 않은 인자가 있을 경우 함수에서는 <span style = 'color : #760c0c'>반드시 일반인자, 가변인자, 정의되지 않은 인자 순으로 </span>인자들을 전달하고 받아야 한다"
   ]
  },
  {
   "cell_type": "code",
   "execution_count": 39,
   "id": "73a6374e",
   "metadata": {},
   "outputs": [
    {
     "name": "stdout",
     "output_type": "stream",
     "text": [
      "반지름 :  3 PI :  3.14 면적 :  28.26\n",
      "반지름 :  3 PI :  3.1415 면적 :  28.27\n",
      "line_color : 파랑\n",
      "area_color : 노랑\n",
      "\n",
      "반지름 :  5 PI :  3.14 면적 :  78.5\n",
      "반지름 :  5 PI :  3.1415 면적 :  78.54\n",
      "polygon_name : 원\n",
      "value : 면적\n"
     ]
    }
   ],
   "source": [
    "def circle_area(radius, *pi, **info) :\n",
    "    for item in pi :\n",
    "        area = item * (radius ** 2)\n",
    "        print('반지름 : ', radius, 'PI : ', item, '면적 : ', round(area, 2))\n",
    "    for key in info : print(key, ':', info[key])\n",
    "        \n",
    "circle_area(3, 3.14, 3.1415, line_color = '파랑', area_color = '노랑')\n",
    "print()\n",
    "circle_area(5, 3.14, 3.1415, polygon_name = '원', value = '면적')"
   ]
  },
  {
   "cell_type": "markdown",
   "id": "45369222",
   "metadata": {},
   "source": [
    "### Exercise 2.\n",
    "현재가치를 미래가치로 만드는 함수를 만들어 보자"
   ]
  },
  {
   "cell_type": "code",
   "execution_count": 81,
   "id": "739b7f6a",
   "metadata": {},
   "outputs": [],
   "source": [
    "def present_to_future(present, year, interest) :\n",
    "    future = present * (1 + interest) ** year\n",
    "    return future"
   ]
  },
  {
   "cell_type": "code",
   "execution_count": 82,
   "id": "d54b4025",
   "metadata": {},
   "outputs": [
    {
     "data": {
      "text/plain": [
       "1216.6529024000001"
      ]
     },
     "execution_count": 82,
     "metadata": {},
     "output_type": "execute_result"
    }
   ],
   "source": [
    "present_to_future(1000, 5, 0.04)"
   ]
  },
  {
   "cell_type": "markdown",
   "id": "8d524dac",
   "metadata": {},
   "source": [
    "### File I/O\n",
    "- 키보드 입력을 표준 입력, 모니터 출력을 표준 출력이라 한다\n",
    "- input( ) : 키보드로부터 데이터를 입력 받는 함수\n",
    "- print( ) : 모니터로 결과를 출력하는 함수(옵션을 변경하여 파일에 출력 가능)\n",
    "     - 하지만, 입력 데이터의 양이 많아지면 손으로 직접 입력하기 어렵고, 출력 데이터의 양도 많아져 파일에 보관해야 할 필요성도 생김\n",
    "     \n",
    "<br>\n",
    "\n",
    "- 파일 입출력은 다음과 같은 세 단계를 통하여 이루어짐\n",
    "    1. 파일 열기 (File Open)\n",
    "    2. 파일에서 읽거나 또는 파일에 쓰기\n",
    "    3. 파일 닫기 (File Close)"
   ]
  },
  {
   "cell_type": "markdown",
   "id": "00fd7d73",
   "metadata": {},
   "source": [
    "#### 파일 열기\n",
    "\n",
    "<pre>\n",
    "fp_r = open(\"in.txt\", 'r‘) # <i>read mode</i> \n",
    "fp_w = open(\"out.txt\", 'w‘) # <i>write mode</i> </pre>\n",
    "\n",
    "- fp_r, fp_w : 파일 객체를 나타내는 변수\n",
    "- in.txt, out.txt : 사용할 파일 이름\n",
    "- File Mode : 파일을 어떤 용도로 사용할지 결정\n",
    "    - 'r' : 읽기 전용. 존재하지 않는 파일이면 에러가 발생하므로 주의한다\n",
    "    - 'w' : 쓰기 전용. 파일이 없으면 빈 파일을 새로 만들고, 기존 있던 파일이면 내용을 모두 지우고 파일을 쓰기 전용으로 open한다\n",
    "    - 'a' : append의 약자이며, 기존 파일에 덧붙여서 이어서 쓰기 작업을 한다\n",
    "- script 파일과 같은 폴더에 저장되어 있는 파일을 읽거나 쓰는 경우 는 파일 이름만 명시한다. 다른 폴더에 있는 파일인 경우는 전체 경로를 이름과 함께 명시해야 한다"
   ]
  },
  {
   "cell_type": "markdown",
   "id": "ac294867",
   "metadata": {},
   "source": [
    "#### 파일 읽기\n",
    "\n",
    "- open() 함수에서 읽기 모드로 반환 받은 파일 객체를 가리키는 변수를 fp_r 이라고 가정한다\n",
    "- **fp_r.read( )** : 파일 전체를 하나의 문자열로 읽는다\n",
    "- **fp_r.readlines( )** : 파일을 줄 단위로 읽어 각 줄을 문자열 형식으로 저장하고, 이들 전체 문자열을 원소로 하는 리스트를 반환한다\n",
    "- **fp_r.readline( )** : 한 줄을 문자열 형식으로 읽어 이를 반환한다\n",
    "- 파일 전체를 한 줄씩 읽어 처리하는 방법 (for 반복문 사용하면 편리하다)\n",
    "\n",
    "<pre>\n",
    "<b>for</b> aLine <b>in</b> fp_r : # 변수 aLine은 fp_r에서 한 줄씩 읽어 들인 문자열 \n",
    "<pre>statements # 읽어들인 줄에 처리할 명령어들</pre></pre>"
   ]
  },
  {
   "cell_type": "markdown",
   "id": "ad97eb0e",
   "metadata": {},
   "source": [
    "#### 파일 쓰기\n",
    "- open() 함수에서 쓰기 모드로 반환 받은 파일 객체를 가리키는 변 수를 fp_w 이라고 가정한한다\n",
    "- **fp_w.write(str)** : 인자로 받은 문자열 데이터 하나를 파일에 쓴다\n",
    "    - 줄바꿈 문자가 자동으로 삽입되지 않는다\n",
    "    - 줄바꿈이 필요한 경우, 문자열 인자의 마지막에 줄바꿈 기호를 추가해야 한다\n",
    "- **print(\\*objects, file = fp_w)**\n",
    "    - 화면 대신 파일에 쓰기 위해서는 file 인수값 변경이 필요하다\n",
    "    - print() 함수는 디폴트로 줄바꿈이 발생한다\n",
    "    - 줄바꿈을 하지 않으려면, end 인수값을 변경해야 한다"
   ]
  },
  {
   "cell_type": "markdown",
   "id": "ef3afc13",
   "metadata": {},
   "source": [
    "#### 파일 닫기\n",
    "파일을 열었다면 **반드시 파일을 닫아야 한다**\n",
    "\n",
    "<pre>\n",
    "fp_r = open(\"in.txt\", 'r‘) # read mode fp_w = open(\"out.txt\", 'w‘) # write mode \n",
    "....\n",
    "....\n",
    "<b>fp_r.close()</b>\n",
    "<b>fp_w.close()</b></pre>\n",
    "\n",
    "\n",
    "- 파일이 열려있는 상태에서는 파일을 지우거나 이름을 바꿀 수 없다\n",
    "- Python shell을 종료하거나, restart하거나 또는 close() method를 호출 하여야 파일이 닫혀, 파일 지우기 또는 이름 바꾸기 등을 수행할 수 있다\n",
    "- 따라서, 파일 작업을 마치면 반드시 파일을 닫도록 해야 한다"
   ]
  },
  {
   "cell_type": "code",
   "execution_count": 83,
   "id": "a958ee37",
   "metadata": {},
   "outputs": [],
   "source": [
    "fp = open('information.txt', 'wt', encoding = 'utf-8') # file writing\n",
    "fp.write('3\\n')\n",
    "fp.write('3.14\\n')\n",
    "fp.write('\"3.14\"\\n')\n",
    "fp.close() # 파일 닫기"
   ]
  },
  {
   "cell_type": "code",
   "execution_count": 84,
   "id": "102a1ea8",
   "metadata": {},
   "outputs": [
    {
     "name": "stdout",
     "output_type": "stream",
     "text": [
      "3\n",
      "3.14\n",
      "\"3.14\"\n",
      "\n"
     ]
    }
   ],
   "source": [
    "with open('information.txt', 'rt') as fp : # file open\n",
    "    print(fp.read()) # 읽기 모드이면 파일을 닫을 필요는 없다 (참조만 했기 때문)"
   ]
  },
  {
   "cell_type": "code",
   "execution_count": 85,
   "id": "f7cb05f1",
   "metadata": {},
   "outputs": [
    {
     "name": "stdout",
     "output_type": "stream",
     "text": [
      "3\n",
      "\n",
      "3.14\n",
      "\n",
      "\"3.14\"\n",
      "\n"
     ]
    }
   ],
   "source": [
    "fp = open('information.txt', 'rt', encoding = 'utf-8')\n",
    "for s in fp :\n",
    "    print(s)"
   ]
  },
  {
   "cell_type": "markdown",
   "id": "bbd3b8b6",
   "metadata": {},
   "source": [
    "### Exercise 3.\n",
    "아래의 내용을 파일에 입력하고 직접 읽어 보자\n",
    "\n",
    "<pre>\n",
    "3.141592\n",
    "FIND-A\n",
    "This is Python\n",
    "</pre>"
   ]
  },
  {
   "cell_type": "code",
   "execution_count": 86,
   "id": "afc7c5ab",
   "metadata": {},
   "outputs": [],
   "source": [
    "f = open('test.txt', 'wt', encoding = 'utf-8') # cp949\n",
    "f.write('3.141592\\n')\n",
    "f.write('FIND-A\\n')\n",
    "f.write('This is Python\\n')\n",
    "f.close()"
   ]
  },
  {
   "cell_type": "code",
   "execution_count": 87,
   "id": "2b3d0b0b",
   "metadata": {},
   "outputs": [
    {
     "name": "stdout",
     "output_type": "stream",
     "text": [
      "3.141592\n",
      "FIND-A\n",
      "This is Python\n",
      "\n"
     ]
    }
   ],
   "source": [
    "with open('test.txt', 'rt') as f :\n",
    "    print(f.read())"
   ]
  },
  {
   "cell_type": "markdown",
   "id": "f700a9f3",
   "metadata": {},
   "source": [
    "### Assignment 1.\n",
    "**Gordon의 기업 성장 모형**과 **자본자산가치결정모형(CAPM)**에 따르면 투자자가 기업에 요구하는 요구 수익률은 다음과 같이 정의됩니다.\n",
    "\n",
    "$$k = r_f + \\beta(E(r_m) - r_f)$$\n",
    "\n",
    "여기서 $k$는 요구수익률, $r_f$는 무위험이자율, $r_m$는 기업 주식의 수익률, $\\beta$는 기업의 시장 프리미엄을 의미합니다\n",
    "\n",
    "- 위 산식을 함수로 작성하세요"
   ]
  },
  {
   "cell_type": "code",
   "execution_count": null,
   "id": "9ddbe841",
   "metadata": {},
   "outputs": [],
   "source": []
  },
  {
   "cell_type": "markdown",
   "id": "75b8b4b8",
   "metadata": {},
   "source": [
    "#### Assignment 1-1.\n",
    "\n",
    "- 2023년 2월 14일 현재 한국의 30일 평균 무위험이자율은 3.4129%입니다. 어느 기업 A의 30일 평균 주식 수익률이 7.4%였다고 할 때, 투자자가 이 기업 A에 기대하는 요구수익률은 얼마입니까?(베타는 1.2로 가정합니다)"
   ]
  },
  {
   "cell_type": "code",
   "execution_count": null,
   "id": "95e8705f",
   "metadata": {},
   "outputs": [],
   "source": []
  },
  {
   "cell_type": "markdown",
   "id": "2dd06100",
   "metadata": {},
   "source": [
    "#### Assignment 1-2.\n",
    "\n",
    "- 위 기업의 경우에서 무위험이자율을 2.5%라고 가정할 때의 요구수익률을 계산하세요"
   ]
  },
  {
   "cell_type": "code",
   "execution_count": null,
   "id": "61d8274e",
   "metadata": {},
   "outputs": [],
   "source": []
  },
  {
   "cell_type": "markdown",
   "id": "a7033f5e",
   "metadata": {},
   "source": [
    "### Assignment 2. \n",
    "\n",
    "Gordon의 주식 가치 결정 모델에서 적정 주가는 다음과 같이 정의됩니다\n",
    "\n",
    "$$P = \\frac{D(1+g)}{k-g}$$\n",
    "\n",
    "여기서 $k$는 요구수익률, $D$는 배당금, $g$는 배당 증가율, $P$는 기업의 적정 주가를 의미합니다\n",
    "\n",
    "- 위 산식을 함수로 작성하세요"
   ]
  },
  {
   "cell_type": "code",
   "execution_count": null,
   "id": "68c53985",
   "metadata": {},
   "outputs": [],
   "source": []
  },
  {
   "cell_type": "markdown",
   "id": "c1bb63c4",
   "metadata": {},
   "source": [
    "- 과제 1번의 요구수익률을 가정하고, 기존의 기업 배당금은 1주당 1천원, 배당 증가율이 3%라면 이 기업의 적정 주가는 얼마입니까?"
   ]
  },
  {
   "cell_type": "code",
   "execution_count": null,
   "id": "8b172250",
   "metadata": {},
   "outputs": [],
   "source": []
  }
 ],
 "metadata": {
  "kernelspec": {
   "display_name": "Python 3 (ipykernel)",
   "language": "python",
   "name": "python3"
  },
  "language_info": {
   "codemirror_mode": {
    "name": "ipython",
    "version": 3
   },
   "file_extension": ".py",
   "mimetype": "text/x-python",
   "name": "python",
   "nbconvert_exporter": "python",
   "pygments_lexer": "ipython3",
   "version": "3.9.13"
  }
 },
 "nbformat": 4,
 "nbformat_minor": 5
}
