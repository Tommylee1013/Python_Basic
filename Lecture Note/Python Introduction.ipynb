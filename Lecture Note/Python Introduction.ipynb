{
 "cells": [
  {
   "cell_type": "markdown",
   "id": "4e63eb7d",
   "metadata": {},
   "source": [
    "# Introduction\n",
    "\n",
    "### What is Python? \n",
    "\n",
    "- Python is a popular general-purpose programming language that is designed to handle a wide range of problems. \n",
    "\n",
    "- Recent developments have extended Python's range of applicability to econometrics, statistics and general numerical analysis. \n",
    "\n",
    "### Important Components of the Python Scientific Stack\n",
    "\n",
    "1. Python\n",
    "    - This provides the core Python interpreter. The latest version is Python 3.7, but I personally prefer Python 3.6 due to dependencies issue. \n",
    "\n",
    "2. NumPy \n",
    "    - NumPy provides a set of array and matrix data types which are essential for statistics, econometrics and data analysis. \n",
    "3. SciPy\n",
    "    - SciPy contains a large number of routines needed for analysis of data. The most important include a wide range of random number generators, linear algebra routines, and optimizers.\n",
    "4. Jupyter and IPython\n",
    "    - IPython provides an interactive Python environment which enhances productivity when developing code or performing interactive data analysis. Jupyter provides a generic set of infrastructure that enables IPython to be run in a variety of settings including an improved console (QtConsole) or in an interactive webbrowser based notebook.\n",
    "5. Matplotlib and seaborn \n",
    "    - matplotlib provides a plotting environment for 2D plots, with limited support for 3D plotting. seaborn is a Python package that improves the default appearance of matplotlib plots without any additional code.\n",
    "6. Pandas \n",
    "    - Pandas provides high-performance data structures.\n",
    "7. Statsmodels\n",
    "    - statsmodels is pandas-aware and provides models used in the statistical analysis of data including linear regression, Generalized LinearModels (GLMs), and time-series models (e.g., ARIMA).\n",
    "8. scikit-learn (sklearn)\n",
    "    - scikit-learn provides machine learning models for regression, classification, etc. \n",
    "9. quantecon\n",
    "    - The quantecon python library consists of a number of modules which includes game theory (game_theory), markov chains (markov), random generation utilities (random), a collection of tools (tools), and other utilities (util)."
   ]
  },
  {
   "cell_type": "markdown",
   "id": "98fdc98a",
   "metadata": {},
   "source": [
    "### Python Installation\n",
    "\n",
    "- [Anaconda Distribution](https://www.anaconda.com/download/#windows)\n",
    "\n",
    "<img src=\"./img/1.png\" width=\"600\" height=\"600\">\n",
    "\n",
    "- [Anaconda Installer Archive](https://repo.continuum.io/archive/#windows)"
   ]
  },
  {
   "cell_type": "markdown",
   "id": "ce167ede",
   "metadata": {},
   "source": [
    "### Add not-yet installed packages\n",
    "\n",
    "-  **If import not installed module then use package manager [pip](https://pypi.org/project/pip/) or [conda](https://conda.io/docs/index.html)** <br>\n",
    "      >conda install $PACKAGE_NAME <br>\n",
    "            >>`conda install pip3`  <br>\n",
    "            >>`OR` \n",
    "            >>`pip install pip3`  <br>\n",
    "            \n",
    "      >conda update $PACKAGE_NAME      \n",
    "      \n",
    "      > conda install -y ipython matplotlib pandas pytables scipy seaborn  OR\n",
    "      >   OR\n",
    "      > conda remove pytables \n",
    "      \n",
    "      >conda list\n",
    "      \n",
    "      \n",
    "### Sometimes we need a virtual environment\n",
    "\n",
    "- required python 2.xx (almost terminated) \n",
    "- required python 3.5xx (currently 3.7xx)  <br>\n",
    "- required 32bit\n",
    "\n",
    ">set CONDA_FORCE_32BIT=1  __<font color=blue>[only for 32bit required]</font>__<br>    \n",
    ">conda create -n py32_35 python=3.5\n",
    "\n",
    "> activate py32_35 or using mouse with window command\n",
    "> deactivate py32_35\n",
    "\n",
    "<img src=\"./img/2.png\" width=\"200\" height=\"200\">\n",
    "\n",
    "\n",
    "### Jupyter? IDE?\n",
    "\n",
    "- Jupyter Notebook :\n",
    "    - Popukar interactive development environment.\n",
    "    - Used for Python, R and Julia.\n",
    "    \n",
    "- IDE(Integrated Development Environment)\n",
    "    - Software application that provides comprehensive facilities to computer programmers for software development. \n",
    "    - Pycharm, Sublime, VS code ...\n",
    "    \n",
    "- Cloud based\n",
    "    - [Google Colaboratory](https://colab.research.google.com/notebooks/intro.ipynb#scrollTo=lSrWNr3MuFUS)"
   ]
  }
 ],
 "metadata": {
  "kernelspec": {
   "display_name": "Python 3 (ipykernel)",
   "language": "python",
   "name": "python3"
  },
  "language_info": {
   "codemirror_mode": {
    "name": "ipython",
    "version": 3
   },
   "file_extension": ".py",
   "mimetype": "text/x-python",
   "name": "python",
   "nbconvert_exporter": "python",
   "pygments_lexer": "ipython3",
   "version": "3.9.13"
  }
 },
 "nbformat": 4,
 "nbformat_minor": 5
}
