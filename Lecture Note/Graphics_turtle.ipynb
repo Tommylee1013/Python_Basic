{
 "cells": [
  {
   "cell_type": "markdown",
   "source": [
    "### Turtle Graphics\n",
    "\n",
    "Turtle graphic으로 정다각형 그리기"
   ],
   "metadata": {
    "collapsed": false
   },
   "id": "7bab5d5056c619d0"
  },
  {
   "cell_type": "code",
   "execution_count": 1,
   "id": "initial_id",
   "metadata": {
    "collapsed": true,
    "ExecuteTime": {
     "end_time": "2023-11-28T03:28:41.424334Z",
     "start_time": "2023-11-28T03:28:40.015131Z"
    }
   },
   "outputs": [],
   "source": [
    "from turtle import *\n",
    "\n",
    "for i in range(4) :\n",
    "    fd(100)\n",
    "    rt(90)\n",
    "done()"
   ]
  },
  {
   "cell_type": "markdown",
   "source": [
    "붉은색 정오각형 그리기"
   ],
   "metadata": {
    "collapsed": false
   },
   "id": "f34893a2a4ee47f"
  },
  {
   "cell_type": "code",
   "execution_count": 3,
   "outputs": [],
   "source": [
    "for i in range(5) :\n",
    "    fd(100)\n",
    "    rt(72)\n",
    "done()"
   ],
   "metadata": {
    "collapsed": false,
    "ExecuteTime": {
     "end_time": "2023-11-28T03:28:54.574698Z",
     "start_time": "2023-11-28T03:28:53.160328Z"
    }
   },
   "id": "5d02eaa44e4d29d3"
  },
  {
   "cell_type": "markdown",
   "source": [
    "여섯개의 원 그리기"
   ],
   "metadata": {
    "collapsed": false
   },
   "id": "2247496c66d3f3d4"
  },
  {
   "cell_type": "code",
   "execution_count": 4,
   "outputs": [],
   "source": [
    "for count in range(6) :\n",
    "    circle(100)\n",
    "    left(360 / 6)\n",
    "done()"
   ],
   "metadata": {
    "collapsed": false,
    "ExecuteTime": {
     "end_time": "2023-11-28T03:29:40.601250Z",
     "start_time": "2023-11-28T03:29:26.574637Z"
    }
   },
   "id": "3659997a5d7c5ebb"
  },
  {
   "cell_type": "markdown",
   "source": [
    "turtle graphics를 이용하여 사각형 3개 그리기, 각 사각형은 20도씩 기울어져 있다"
   ],
   "metadata": {
    "collapsed": false
   },
   "id": "c66cdbd00ce8547f"
  },
  {
   "cell_type": "code",
   "execution_count": 5,
   "outputs": [],
   "source": [
    "for i in range(3) :\n",
    "    left(20)\n",
    "    for j in range(4) :\n",
    "        forward(50)\n",
    "        left(90)\n",
    "done()"
   ],
   "metadata": {
    "collapsed": false,
    "ExecuteTime": {
     "end_time": "2023-11-28T03:30:41.657578Z",
     "start_time": "2023-11-28T03:30:38.344708Z"
    }
   },
   "id": "39f4f05633cc85f4"
  },
  {
   "cell_type": "markdown",
   "source": [
    "정삼각형과 정사각형 반복문을 통해 그리기"
   ],
   "metadata": {
    "collapsed": false
   },
   "id": "4cf5f722471706c"
  },
  {
   "cell_type": "code",
   "execution_count": 8,
   "outputs": [],
   "source": [
    "shape(\"turtle\")\n",
    "\n",
    "for i in range(3) :\n",
    "    forward(100)\n",
    "    left(360 / 3)\n",
    "\n",
    "penup()\n",
    "goto(200, 0) # 좌표이동\n",
    "pendown()\n",
    "\n",
    "for i in range(4) :\n",
    "    forward(100)\n",
    "    left(360 / 4)\n",
    "done()"
   ],
   "metadata": {
    "collapsed": false,
    "ExecuteTime": {
     "end_time": "2023-11-28T03:33:20.145534Z",
     "start_time": "2023-11-28T03:33:14.741477Z"
    }
   },
   "id": "1e8a2c0ea93305de"
  },
  {
   "cell_type": "markdown",
   "source": [
    "삼각형 그리고 칠하기"
   ],
   "metadata": {
    "collapsed": false
   },
   "id": "49eb24c4bf6133b0"
  },
  {
   "cell_type": "code",
   "execution_count": null,
   "outputs": [],
   "source": [
    "from turtle import *\n",
    "\n",
    "width(20)\n",
    "\n",
    "pencolor('orange')\n",
    "shape('turtle')\n",
    "begin_fill()\n",
    "fillcolor('GREEN')\n",
    "\n",
    "for i in range(3) :\n",
    "    forward(200)\n",
    "    left(360 / 3)\n",
    "\n",
    "end_fill()\n",
    "done()"
   ],
   "metadata": {
    "collapsed": false
   },
   "id": "5b1a5c30a7133759"
  },
  {
   "cell_type": "code",
   "execution_count": null,
   "outputs": [],
   "source": [
    "from turtle import *\n",
    "width(20)\n",
    "\n",
    "color('GREEN')\n",
    "shape('turtle')\n",
    "begin_fill()\n",
    "for i in range(3) :\n",
    "    forward(200)\n",
    "    left(360 / 3)\n",
    "\n",
    "end_fill()\n",
    "done()"
   ],
   "metadata": {
    "collapsed": false,
    "ExecuteTime": {
     "start_time": "2023-11-28T03:42:15.116631Z"
    }
   },
   "id": "3ce151129f9ad9ba"
  },
  {
   "cell_type": "code",
   "execution_count": null,
   "outputs": [],
   "source": [],
   "metadata": {
    "collapsed": false
   },
   "id": "31e30bbf31af8740"
  }
 ],
 "metadata": {
  "kernelspec": {
   "display_name": "Python 3",
   "language": "python",
   "name": "python3"
  },
  "language_info": {
   "codemirror_mode": {
    "name": "ipython",
    "version": 2
   },
   "file_extension": ".py",
   "mimetype": "text/x-python",
   "name": "python",
   "nbconvert_exporter": "python",
   "pygments_lexer": "ipython2",
   "version": "2.7.6"
  }
 },
 "nbformat": 4,
 "nbformat_minor": 5
}
