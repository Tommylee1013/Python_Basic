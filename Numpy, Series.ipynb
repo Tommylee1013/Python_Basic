{
 "cells": [
  {
   "cell_type": "markdown",
   "id": "1dfbebc5",
   "metadata": {},
   "source": [
    "## Numpy, Series\n",
    "\n",
    "### Why Numpy?\n",
    "- 반복문 없이 빠른 계산 가능한 다차원 배열을 제공한다(내부적으로 C로 구현)\n",
    "- 빠른 계산 속도를 제공한다\n",
    "- 원하는 형태의 data만 구별할 수 있는 indexing 기능이 있다 (정수 인덱싱, Boolean Indexing)\n",
    "- Vectorized operation을 지원한다\n",
    "    - 배열의 각 원소에 대한 반복연산을 하나의 명령어로 처리한다\n",
    "- numpy 배열 생성 방법\n",
    "    - python list 사용 : np.array(  )\n",
    "    - numpy 제공함수 이용 : zeros( ), ones( ), full( ), eye( )"
   ]
  },
  {
   "cell_type": "code",
   "execution_count": 102,
   "id": "542748bc",
   "metadata": {},
   "outputs": [
    {
     "data": {
      "text/plain": [
       "array([1, 2, 3, 4, 5])"
      ]
     },
     "execution_count": 102,
     "metadata": {},
     "output_type": "execute_result"
    }
   ],
   "source": [
    "np.array([1,2,3,4,5])"
   ]
  },
  {
   "cell_type": "markdown",
   "id": "f0213c6f",
   "metadata": {},
   "source": [
    "### Exercise 1.\n",
    "- python의 list와 numpy의 ndarray의 성능을 비교하기 위해 1000000개 이상의 원소를 갖는 두 배열 X와 Y의 각 인덱스의 합을 구하는 경우에 실행시간을 비교해 보자"
   ]
  },
  {
   "cell_type": "code",
   "execution_count": 1,
   "id": "0fc397a4",
   "metadata": {},
   "outputs": [
    {
     "name": "stdout",
     "output_type": "stream",
     "text": [
      "python list exe. time :  0.1262378692626953\n",
      "numpy ndarray exe. time :  0.019137144088745117\n",
      "numpy is in this example  6.596484233869461  faster\n"
     ]
    }
   ],
   "source": [
    "import time\n",
    "import numpy as np\n",
    "\n",
    "def pure_python_version() :\n",
    "    X = Y = [i for i in range(10000000)]\n",
    "    t0 = time.time()\n",
    "    X + Y\n",
    "    t1 = time.time()\n",
    "    return t1 - t0\n",
    "\n",
    "def numpy_version() :\n",
    "    X = Y = np.arange(10000000)\n",
    "    t0 = time.time()\n",
    "    X + Y\n",
    "    t1 = time.time()\n",
    "    return t1 - t0\n",
    "\n",
    "t1 = pure_python_version()\n",
    "t2 = numpy_version()\n",
    "print('python list exe. time : ', t1)\n",
    "print('numpy ndarray exe. time : ', t2)\n",
    "print('numpy is in this example ', t1/t2, ' faster')"
   ]
  },
  {
   "cell_type": "markdown",
   "id": "096fea1d",
   "metadata": {},
   "source": [
    "### Numpy\n",
    "\n",
    "https://numpy.org/doc/stable/\n",
    "\n",
    "- NumPy : Numerical Python의 약어\n",
    "- ndarray : numpy를 통해 생성되는 n차원의 배열 객체, 기존 파이썬과 다르게 같은 종류의 데이터만을 배열에 담을 수 있다.\n",
    "- ndarray의 생성 : NumPy의 array함수로 만든다."
   ]
  },
  {
   "cell_type": "code",
   "execution_count": 2,
   "id": "13a46f15",
   "metadata": {},
   "outputs": [
    {
     "data": {
      "text/plain": [
       "array([1, 2, 3, 4, 5])"
      ]
     },
     "execution_count": 2,
     "metadata": {},
     "output_type": "execute_result"
    }
   ],
   "source": [
    "import numpy as np\n",
    "data = [1,2,3,4,5] # list\n",
    "arr = np.array(data)\n",
    "arr"
   ]
  },
  {
   "cell_type": "markdown",
   "id": "2fe305c4",
   "metadata": {},
   "source": [
    "np.ndarray는 tuple의 형태로 표현된다"
   ]
  },
  {
   "cell_type": "code",
   "execution_count": 104,
   "id": "dfca6820",
   "metadata": {},
   "outputs": [
    {
     "data": {
      "text/plain": [
       "[[1, 2, 3, 4], [5, 6, 7, 8]]"
      ]
     },
     "execution_count": 104,
     "metadata": {},
     "output_type": "execute_result"
    }
   ],
   "source": [
    "[[1,2,3,4],[5,6,7,8]]"
   ]
  },
  {
   "cell_type": "code",
   "execution_count": 105,
   "id": "e411ab86",
   "metadata": {},
   "outputs": [
    {
     "data": {
      "text/plain": [
       "array([[1, 2, 3, 4],\n",
       "       [5, 6, 7, 8]])"
      ]
     },
     "execution_count": 105,
     "metadata": {},
     "output_type": "execute_result"
    }
   ],
   "source": [
    "data = [[1,2,3,4],[5,6,7,8]] # 2 rank array\n",
    "arr = np.array(data)\n",
    "arr"
   ]
  },
  {
   "cell_type": "code",
   "execution_count": 4,
   "id": "a55fd75d",
   "metadata": {},
   "outputs": [
    {
     "data": {
      "text/plain": [
       "(2, 4)"
      ]
     },
     "execution_count": 4,
     "metadata": {},
     "output_type": "execute_result"
    }
   ],
   "source": [
    "arr.shape # 데이터의 형태 출력"
   ]
  },
  {
   "cell_type": "code",
   "execution_count": 5,
   "id": "0f8644ae",
   "metadata": {},
   "outputs": [
    {
     "name": "stdout",
     "output_type": "stream",
     "text": [
      "[[1 2 3 4]\n",
      " [5 6 7 8]]\n"
     ]
    }
   ],
   "source": [
    "print(arr) # 배열로 표현된다"
   ]
  },
  {
   "cell_type": "code",
   "execution_count": 6,
   "id": "9fcf5efb",
   "metadata": {},
   "outputs": [
    {
     "data": {
      "text/plain": [
       "2"
      ]
     },
     "execution_count": 6,
     "metadata": {},
     "output_type": "execute_result"
    }
   ],
   "source": [
    "arr.ndim # data의 rank"
   ]
  },
  {
   "cell_type": "code",
   "execution_count": 7,
   "id": "b4901369",
   "metadata": {},
   "outputs": [
    {
     "data": {
      "text/plain": [
       "dtype('int64')"
      ]
     },
     "execution_count": 7,
     "metadata": {},
     "output_type": "execute_result"
    }
   ],
   "source": [
    "arr.dtype # data type을 알 수 있다"
   ]
  },
  {
   "cell_type": "code",
   "execution_count": 8,
   "id": "be6815b6",
   "metadata": {},
   "outputs": [
    {
     "data": {
      "text/plain": [
       "8"
      ]
     },
     "execution_count": 8,
     "metadata": {},
     "output_type": "execute_result"
    }
   ],
   "source": [
    "arr.size # data를 구성하는 원소의 갯수를 출력한다"
   ]
  },
  {
   "cell_type": "code",
   "execution_count": 108,
   "id": "bae57f37",
   "metadata": {},
   "outputs": [
    {
     "data": {
      "text/plain": [
       "8"
      ]
     },
     "execution_count": 108,
     "metadata": {},
     "output_type": "execute_result"
    }
   ],
   "source": [
    "arr.itemsize # 사용하는 bitsize 출력"
   ]
  },
  {
   "cell_type": "markdown",
   "id": "91207a58",
   "metadata": {},
   "source": [
    "### NumPy 제공함수를 이용한 배열생성\n",
    "- **zeros, ones** 함수로 0행렬, 모든 행렬의 원소값이 1인 행렬을 만들 수 있다\n",
    "- **empty**함수는 초기화되지 않은 행렬을 생성한다"
   ]
  },
  {
   "cell_type": "code",
   "execution_count": 109,
   "id": "8e3e14e0",
   "metadata": {},
   "outputs": [
    {
     "data": {
      "text/plain": [
       "array([[0., 0., 0.],\n",
       "       [0., 0., 0.],\n",
       "       [0., 0., 0.]])"
      ]
     },
     "execution_count": 109,
     "metadata": {},
     "output_type": "execute_result"
    }
   ],
   "source": [
    "np.empty((3,3)) # 초기화되지 않은 행렬 생성"
   ]
  },
  {
   "cell_type": "code",
   "execution_count": 110,
   "id": "c6c3b008",
   "metadata": {},
   "outputs": [
    {
     "data": {
      "text/plain": [
       "array([[1., 1., 1.],\n",
       "       [1., 1., 1.],\n",
       "       [1., 1., 1.],\n",
       "       [1., 1., 1.]])"
      ]
     },
     "execution_count": 110,
     "metadata": {},
     "output_type": "execute_result"
    }
   ],
   "source": [
    "np.ones((4,3)) # 1로 이뤄진 행렬 출력, 곱의 항등원"
   ]
  },
  {
   "cell_type": "code",
   "execution_count": 111,
   "id": "8d2b5330",
   "metadata": {},
   "outputs": [
    {
     "data": {
      "text/plain": [
       "array([[0., 0., 0., 0.],\n",
       "       [0., 0., 0., 0.],\n",
       "       [0., 0., 0., 0.],\n",
       "       [0., 0., 0., 0.],\n",
       "       [0., 0., 0., 0.]])"
      ]
     },
     "execution_count": 111,
     "metadata": {},
     "output_type": "execute_result"
    }
   ],
   "source": [
    "np.zeros((5,4)) # 모든 원소가 0인 행렬, 덧셈의 항등원"
   ]
  },
  {
   "cell_type": "code",
   "execution_count": 117,
   "id": "7e35df51",
   "metadata": {},
   "outputs": [
    {
     "data": {
      "text/plain": [
       "array([['g', 'g', 'g', 'g', 'g', 'g', 'g', 'g'],\n",
       "       ['g', 'g', 'g', 'g', 'g', 'g', 'g', 'g'],\n",
       "       ['g', 'g', 'g', 'g', 'g', 'g', 'g', 'g'],\n",
       "       ['g', 'g', 'g', 'g', 'g', 'g', 'g', 'g'],\n",
       "       ['g', 'g', 'g', 'g', 'g', 'g', 'g', 'g'],\n",
       "       ['g', 'g', 'g', 'g', 'g', 'g', 'g', 'g'],\n",
       "       ['g', 'g', 'g', 'g', 'g', 'g', 'g', 'g'],\n",
       "       ['g', 'g', 'g', 'g', 'g', 'g', 'g', 'g'],\n",
       "       ['g', 'g', 'g', 'g', 'g', 'g', 'g', 'g'],\n",
       "       ['g', 'g', 'g', 'g', 'g', 'g', 'g', 'g']], dtype='<U1')"
      ]
     },
     "execution_count": 117,
     "metadata": {},
     "output_type": "execute_result"
    }
   ],
   "source": [
    "np.full((10,8), 'g') # 두 번째 argument로 채워진 행렬 출력"
   ]
  },
  {
   "cell_type": "code",
   "execution_count": 119,
   "id": "20ac6f9d",
   "metadata": {},
   "outputs": [
    {
     "data": {
      "text/plain": [
       "array([[1., 0., 0., 0.],\n",
       "       [0., 1., 0., 0.],\n",
       "       [0., 0., 1., 0.],\n",
       "       [0., 0., 0., 1.]])"
      ]
     },
     "execution_count": 119,
     "metadata": {},
     "output_type": "execute_result"
    }
   ],
   "source": [
    "np.eye(4) # n * n identity matrix"
   ]
  },
  {
   "cell_type": "markdown",
   "id": "6afbe301",
   "metadata": {},
   "source": [
    "### array(  )\n",
    "- 배열을 생성하는 함수이다\n",
    "- **array(object, dtype = None, copy = True, order = None, subok = False, ndmin = 0)**\n",
    "- subok : bool, optional"
   ]
  },
  {
   "cell_type": "code",
   "execution_count": 120,
   "id": "f512c6cb",
   "metadata": {},
   "outputs": [
    {
     "name": "stderr",
     "output_type": "stream",
     "text": [
      "/var/folders/7g/v3wmln7x2mv8wqmn923x0qy40000gn/T/ipykernel_84685/1317834604.py:2: VisibleDeprecationWarning: Creating an ndarray from ragged nested sequences (which is a list-or-tuple of lists-or-tuples-or ndarrays with different lengths or shapes) is deprecated. If you meant to do this, you must specify 'dtype=object' when creating the ndarray.\n",
      "  arr = np.array(data) # 차원의 크기가 맞지 않으면 dtype이 자동으로 object로 변경된다\n"
     ]
    }
   ],
   "source": [
    "data = [[1,2,3,4,5],[5,6,7,8]]\n",
    "arr = np.array(data) # 차원의 크기가 맞지 않으면 dtype이 자동으로 object로 변경된다"
   ]
  },
  {
   "cell_type": "code",
   "execution_count": 121,
   "id": "1d7f5d89",
   "metadata": {},
   "outputs": [
    {
     "data": {
      "text/plain": [
       "array([list([1, 2, 3, 4, 5]), list([5, 6, 7, 8])], dtype=object)"
      ]
     },
     "execution_count": 121,
     "metadata": {},
     "output_type": "execute_result"
    }
   ],
   "source": [
    "arr"
   ]
  },
  {
   "cell_type": "markdown",
   "id": "fc47a6e1",
   "metadata": {},
   "source": [
    "> 데이터 생성 함수\n",
    "> - numpy.linspace\n",
    "> - numpy.logspace\n",
    "> - numpy.arange"
   ]
  },
  {
   "cell_type": "markdown",
   "id": "0419547d",
   "metadata": {},
   "source": [
    "### numpy.linspace\n",
    "- **numpy.linspace(start, stop, num = 50, endpoint = True, retstop = False, dtype = None)**\n"
   ]
  },
  {
   "cell_type": "code",
   "execution_count": 17,
   "id": "e474d0a0",
   "metadata": {},
   "outputs": [
    {
     "data": {
      "text/plain": [
       "array([1.        , 1.08163265, 1.16326531, 1.24489796, 1.32653061,\n",
       "       1.40816327, 1.48979592, 1.57142857, 1.65306122, 1.73469388,\n",
       "       1.81632653, 1.89795918, 1.97959184, 2.06122449, 2.14285714,\n",
       "       2.2244898 , 2.30612245, 2.3877551 , 2.46938776, 2.55102041,\n",
       "       2.63265306, 2.71428571, 2.79591837, 2.87755102, 2.95918367,\n",
       "       3.04081633, 3.12244898, 3.20408163, 3.28571429, 3.36734694,\n",
       "       3.44897959, 3.53061224, 3.6122449 , 3.69387755, 3.7755102 ,\n",
       "       3.85714286, 3.93877551, 4.02040816, 4.10204082, 4.18367347,\n",
       "       4.26530612, 4.34693878, 4.42857143, 4.51020408, 4.59183673,\n",
       "       4.67346939, 4.75510204, 4.83673469, 4.91836735, 5.        ])"
      ]
     },
     "execution_count": 17,
     "metadata": {},
     "output_type": "execute_result"
    }
   ],
   "source": [
    "np.linspace(1,5)"
   ]
  },
  {
   "cell_type": "code",
   "execution_count": 18,
   "id": "4b3774df",
   "metadata": {},
   "outputs": [
    {
     "data": {
      "text/plain": [
       "array([2.  , 2.25, 2.5 , 2.75, 3.  ])"
      ]
     },
     "execution_count": 18,
     "metadata": {},
     "output_type": "execute_result"
    }
   ],
   "source": [
    "np.linspace(2, 3, num = 5) # 2와 3 사이를 5등분 한다"
   ]
  },
  {
   "cell_type": "code",
   "execution_count": 19,
   "id": "36e6d0ac",
   "metadata": {},
   "outputs": [
    {
     "data": {
      "text/plain": [
       "array([2. , 2.2, 2.4, 2.6, 2.8])"
      ]
     },
     "execution_count": 19,
     "metadata": {},
     "output_type": "execute_result"
    }
   ],
   "source": [
    "np.linspace(2, 3, num = 5, endpoint = False) # endpoint를 False로 지정할 경우 포함하지 않는다"
   ]
  },
  {
   "cell_type": "code",
   "execution_count": 20,
   "id": "e4cc5e34",
   "metadata": {},
   "outputs": [
    {
     "data": {
      "text/plain": [
       "(array([2.  , 2.25, 2.5 , 2.75, 3.  ]), 0.25)"
      ]
     },
     "execution_count": 20,
     "metadata": {},
     "output_type": "execute_result"
    }
   ],
   "source": [
    "np.linspace(2, 3, num = 5, retstep = True) # retstep은 step size를 반환할 것인가에 대한 인수"
   ]
  },
  {
   "cell_type": "markdown",
   "id": "97c3c0f3",
   "metadata": {},
   "source": [
    "### logspace\n",
    "- Numpy logspace는 같은 간격의 log scale을 반환한다"
   ]
  },
  {
   "cell_type": "code",
   "execution_count": 21,
   "id": "55a97fc5",
   "metadata": {},
   "outputs": [
    {
     "name": "stdout",
     "output_type": "stream",
     "text": [
      "[0.02       0.12421053 0.22842105 0.33263158 0.43684211 0.54105263\n",
      " 0.64526316 0.74947368 0.85368421 0.95789474 1.06210526 1.16631579\n",
      " 1.27052632 1.37473684 1.47894737 1.58315789 1.68736842 1.79157895\n",
      " 1.89578947 2.        ]\n"
     ]
    }
   ],
   "source": [
    "print(np.linspace(0.02, 2.0, num = 20))"
   ]
  },
  {
   "cell_type": "code",
   "execution_count": 22,
   "id": "40370419",
   "metadata": {},
   "outputs": [
    {
     "name": "stdout",
     "output_type": "stream",
     "text": [
      "[  1.04712855   1.33109952   1.69208062   2.15095626   2.73427446\n",
      "   3.47578281   4.41838095   5.61660244   7.13976982   9.07600522\n",
      "  11.53732863  14.66613875  18.64345144  23.69937223  30.12640904\n",
      "  38.29639507  48.68200101  61.88408121  78.6664358  100.        ]\n"
     ]
    }
   ],
   "source": [
    "print(np.logspace(0.02, 2, num = 20))"
   ]
  },
  {
   "cell_type": "markdown",
   "id": "72d76530",
   "metadata": {},
   "source": [
    "### numpy.arange\n",
    "- range()함수와 거의 동일하다\n",
    "- range()함수는 반복가능한 객체를 만드는 것에서 끝나는데에 반해, arange method는 배열로 바로 출력한다\n",
    "- **numpy.arange([start,] stop[, step], dtype = None)**"
   ]
  },
  {
   "cell_type": "code",
   "execution_count": 124,
   "id": "0ee16121",
   "metadata": {},
   "outputs": [
    {
     "data": {
      "text/plain": [
       "[0, 1, 2, 3, 4, 5, 6, 7, 8, 9]"
      ]
     },
     "execution_count": 124,
     "metadata": {},
     "output_type": "execute_result"
    }
   ],
   "source": [
    "[i for i in range(10)]"
   ]
  },
  {
   "cell_type": "code",
   "execution_count": 126,
   "id": "82cd27ff",
   "metadata": {},
   "outputs": [
    {
     "data": {
      "text/plain": [
       "array([0, 1, 2, 3, 4, 5, 6, 7, 8, 9])"
      ]
     },
     "execution_count": 126,
     "metadata": {},
     "output_type": "execute_result"
    }
   ],
   "source": [
    "np.arange(10)"
   ]
  },
  {
   "cell_type": "code",
   "execution_count": 24,
   "id": "186f5fd3",
   "metadata": {},
   "outputs": [
    {
     "data": {
      "text/plain": [
       "array([1. , 1.5, 2. , 2.5, 3. , 3.5, 4. , 4.5, 5. , 5.5, 6. , 6.5, 7. ,\n",
       "       7.5, 8. , 8.5, 9. , 9.5])"
      ]
     },
     "execution_count": 24,
     "metadata": {},
     "output_type": "execute_result"
    }
   ],
   "source": [
    "np.arange(1, 10, 0.5)"
   ]
  },
  {
   "cell_type": "code",
   "execution_count": null,
   "id": "eb106c8f",
   "metadata": {},
   "outputs": [],
   "source": []
  },
  {
   "cell_type": "code",
   "execution_count": 132,
   "id": "aac9ae8b",
   "metadata": {},
   "outputs": [
    {
     "data": {
      "text/plain": [
       "array([1, 3, 5, 7, 9])"
      ]
     },
     "execution_count": 132,
     "metadata": {},
     "output_type": "execute_result"
    }
   ],
   "source": [
    "np.arange(1, 10, 2, dtype = np.int64) # data type 지정 가능"
   ]
  },
  {
   "cell_type": "markdown",
   "id": "de7d720f",
   "metadata": {},
   "source": [
    "### numpy.ndarray\n",
    "- nD(n차원) array를 생성하는 함수이다\n",
    "- 대괄호의 갯수가 차원을 나타낸다"
   ]
  },
  {
   "cell_type": "code",
   "execution_count": 26,
   "id": "43a2fec8",
   "metadata": {},
   "outputs": [
    {
     "data": {
      "text/plain": [
       "array([[1, 2, 3, 4],\n",
       "       [5, 6, 7, 8]])"
      ]
     },
     "execution_count": 26,
     "metadata": {},
     "output_type": "execute_result"
    }
   ],
   "source": [
    "data = [[1,2,3,4],[5,6,7,8]] # 2차원 array\n",
    "arr = np.array(data)\n",
    "arr"
   ]
  },
  {
   "cell_type": "code",
   "execution_count": 27,
   "id": "2b31bb62",
   "metadata": {},
   "outputs": [
    {
     "data": {
      "text/plain": [
       "2"
      ]
     },
     "execution_count": 27,
     "metadata": {},
     "output_type": "execute_result"
    }
   ],
   "source": [
    "arr.ndim # 차원"
   ]
  },
  {
   "cell_type": "code",
   "execution_count": 28,
   "id": "0acfd2b0",
   "metadata": {},
   "outputs": [
    {
     "data": {
      "text/plain": [
       "(2, 4)"
      ]
     },
     "execution_count": 28,
     "metadata": {},
     "output_type": "execute_result"
    }
   ],
   "source": [
    "arr.shape # 배열의 모양"
   ]
  },
  {
   "cell_type": "code",
   "execution_count": 29,
   "id": "1a449b4c",
   "metadata": {},
   "outputs": [
    {
     "data": {
      "text/plain": [
       "dtype('int64')"
      ]
     },
     "execution_count": 29,
     "metadata": {},
     "output_type": "execute_result"
    }
   ],
   "source": [
    "arr.dtype # 원소의 data type"
   ]
  },
  {
   "cell_type": "code",
   "execution_count": 30,
   "id": "f9e749f9",
   "metadata": {},
   "outputs": [
    {
     "data": {
      "text/plain": [
       "8"
      ]
     },
     "execution_count": 30,
     "metadata": {},
     "output_type": "execute_result"
    }
   ],
   "source": [
    "arr.size # 원소의 개수"
   ]
  },
  {
   "cell_type": "code",
   "execution_count": 31,
   "id": "79bbbc52",
   "metadata": {},
   "outputs": [
    {
     "data": {
      "text/plain": [
       "[[1, 2, 3, 4], [5, 6, 7, 8]]"
      ]
     },
     "execution_count": 31,
     "metadata": {},
     "output_type": "execute_result"
    }
   ],
   "source": [
    "arr.tolist() # ndarray에 속한 method로, 기본 데이터 타입인 list로 변환"
   ]
  },
  {
   "cell_type": "code",
   "execution_count": 32,
   "id": "28491d51",
   "metadata": {},
   "outputs": [
    {
     "data": {
      "text/plain": [
       "array([[1, 5],\n",
       "       [2, 6],\n",
       "       [3, 7],\n",
       "       [4, 8]])"
      ]
     },
     "execution_count": 32,
     "metadata": {},
     "output_type": "execute_result"
    }
   ],
   "source": [
    "arr.T # 역행렬"
   ]
  },
  {
   "cell_type": "markdown",
   "id": "3d844ed4",
   "metadata": {},
   "source": [
    "두 개의 dtype이 다른 ndarray의 연산이 이뤄지면, 메모리가 더 큰 dtype으로 통합된다"
   ]
  },
  {
   "cell_type": "markdown",
   "id": "c5a29df1",
   "metadata": {},
   "source": [
    "### astype : ndarray의 타입변환\n",
    "- 정수형 자료를 실수형으로 변환하여 새로운 배열을 생성한다\n",
    "- 문자열형 자료를 정수형으로 변환하여 새로운 배열을 생성할 수도 있다"
   ]
  },
  {
   "cell_type": "code",
   "execution_count": 136,
   "id": "79d2e19a",
   "metadata": {},
   "outputs": [
    {
     "name": "stdout",
     "output_type": "stream",
     "text": [
      "['1' '2' '3' '4' '5']\n"
     ]
    }
   ],
   "source": [
    "a = np.array(['1','2','3','4','5'])\n",
    "print(a)"
   ]
  },
  {
   "cell_type": "code",
   "execution_count": 137,
   "id": "ae4c711b",
   "metadata": {},
   "outputs": [
    {
     "data": {
      "text/plain": [
       "array([1, 2, 3, 4, 5])"
      ]
     },
     "execution_count": 137,
     "metadata": {},
     "output_type": "execute_result"
    }
   ],
   "source": [
    "a.astype(int) # 정수형으로 형변환"
   ]
  },
  {
   "cell_type": "code",
   "execution_count": 138,
   "id": "a7239819",
   "metadata": {},
   "outputs": [
    {
     "data": {
      "text/plain": [
       "array([1., 2., 3., 4., 5.])"
      ]
     },
     "execution_count": 138,
     "metadata": {},
     "output_type": "execute_result"
    }
   ],
   "source": [
    "a.astype(float) # 소수형으로 형변환"
   ]
  },
  {
   "cell_type": "markdown",
   "id": "79ae7794",
   "metadata": {},
   "source": [
    "### 배열 원소 개수 알아보기\n",
    "- 일차원과 다차원의 원소 개수를 len( )함수로 처리시 다른 결과가 나온다"
   ]
  },
  {
   "cell_type": "code",
   "execution_count": 36,
   "id": "afa600ea",
   "metadata": {},
   "outputs": [
    {
     "name": "stdout",
     "output_type": "stream",
     "text": [
      "[[1 2 3]\n",
      " [4 5 6]\n",
      " [7 8 9]]\n"
     ]
    }
   ],
   "source": [
    "npa = np.array([[1,2,3], [4,5,6], [7,8,9]])\n",
    "print(npa)"
   ]
  },
  {
   "cell_type": "code",
   "execution_count": 37,
   "id": "cd31f702",
   "metadata": {},
   "outputs": [
    {
     "name": "stdout",
     "output_type": "stream",
     "text": [
      "9 (3, 3) 2 3\n"
     ]
    }
   ],
   "source": [
    "print(npa.size, npa.shape, npa.ndim, len(npa))"
   ]
  },
  {
   "cell_type": "code",
   "execution_count": 38,
   "id": "56bb0bdb",
   "metadata": {},
   "outputs": [
    {
     "name": "stdout",
     "output_type": "stream",
     "text": [
      "[[ 1  2  3]\n",
      " [10 20 30]]\n"
     ]
    }
   ],
   "source": [
    "arr = np.array([[1,2,3],[10,20,30]])\n",
    "print(arr)"
   ]
  },
  {
   "cell_type": "markdown",
   "id": "a208b645",
   "metadata": {},
   "source": [
    "### Numpy 산술연산\n",
    "- 크기가 같은 벡터와 행렬은 동일한 위치에 있는 원소끼리 연산이 이뤄진다"
   ]
  },
  {
   "cell_type": "code",
   "execution_count": 139,
   "id": "f813b221",
   "metadata": {},
   "outputs": [
    {
     "name": "stdout",
     "output_type": "stream",
     "text": [
      "[[ 1  2  3]\n",
      " [10 20 30]]\n"
     ]
    }
   ],
   "source": [
    "arr = np.array([[1,2,3],[10,20,30]])\n",
    "print(arr)"
   ]
  },
  {
   "cell_type": "code",
   "execution_count": 39,
   "id": "57395d06",
   "metadata": {},
   "outputs": [
    {
     "data": {
      "text/plain": [
       "array([[ 2,  4,  6],\n",
       "       [20, 40, 60]])"
      ]
     },
     "execution_count": 39,
     "metadata": {},
     "output_type": "execute_result"
    }
   ],
   "source": [
    "arr + arr"
   ]
  },
  {
   "cell_type": "code",
   "execution_count": 40,
   "id": "8b82d701",
   "metadata": {},
   "outputs": [
    {
     "data": {
      "text/plain": [
       "array([[0, 0, 0],\n",
       "       [0, 0, 0]])"
      ]
     },
     "execution_count": 40,
     "metadata": {},
     "output_type": "execute_result"
    }
   ],
   "source": [
    "arr - arr"
   ]
  },
  {
   "cell_type": "markdown",
   "id": "e19f8a18",
   "metadata": {},
   "source": [
    "### Broadcasting\n",
    "\n",
    "- Numpy는 기본적인 벡터간 산술연산 이외에 Broadcasting을 지원한다\n",
    "- 벡터와 스칼라, 벡터와 행렬간의 연산을 **합리적으로** 수행한다\n",
    "\n",
    "<center><img src = \"https://paris-swc.github.io/advanced-numpy-lesson/fig/numpy_broadcasting.png\" alt=\"My Image\"></center>"
   ]
  },
  {
   "cell_type": "code",
   "execution_count": 41,
   "id": "28f928a7",
   "metadata": {},
   "outputs": [
    {
     "data": {
      "text/plain": [
       "array([[ 0.5,  1. ,  1.5],\n",
       "       [ 5. , 10. , 15. ]])"
      ]
     },
     "execution_count": 41,
     "metadata": {},
     "output_type": "execute_result"
    }
   ],
   "source": [
    "arr * 0.5 # scalar * matrix"
   ]
  },
  {
   "cell_type": "code",
   "execution_count": 42,
   "id": "c27f27cf",
   "metadata": {},
   "outputs": [
    {
     "data": {
      "text/plain": [
       "array([[1.        , 0.5       , 0.33333333],\n",
       "       [0.1       , 0.05      , 0.03333333]])"
      ]
     },
     "execution_count": 42,
     "metadata": {},
     "output_type": "execute_result"
    }
   ],
   "source": [
    "1 / arr"
   ]
  },
  {
   "cell_type": "code",
   "execution_count": 43,
   "id": "99df4a6d",
   "metadata": {},
   "outputs": [
    {
     "data": {
      "text/plain": [
       "array([[11, 22, 33],\n",
       "       [14, 25, 36],\n",
       "       [17, 28, 39]])"
      ]
     },
     "execution_count": 43,
     "metadata": {},
     "output_type": "execute_result"
    }
   ],
   "source": [
    "a = np.array([[1,2,3],[4,5,6],[7,8,9]])\n",
    "b = np.array([10,20,30])\n",
    "a + b"
   ]
  },
  {
   "cell_type": "code",
   "execution_count": 44,
   "id": "4ee82908",
   "metadata": {},
   "outputs": [
    {
     "data": {
      "text/plain": [
       "array([[11, 21, 31],\n",
       "       [12, 22, 32],\n",
       "       [13, 23, 33]])"
      ]
     },
     "execution_count": 44,
     "metadata": {},
     "output_type": "execute_result"
    }
   ],
   "source": [
    "a = np.array([[1],[2],[3]])\n",
    "b = np.array([10,20,30])\n",
    "a + b"
   ]
  },
  {
   "cell_type": "markdown",
   "id": "9d608b85",
   "metadata": {},
   "source": [
    "### reshape( )\n",
    "- 이미 정의된 행렬의 형태를 바꿔준다\n",
    "- 원소의 개수에 맞게 행과 열을 정의해 주어야 한다\n",
    "- 함수의 파라미터에 -1이 들어가면, 다른 나머지 차원 크기를 맞추고 남은 크기를 해당 차원에 할당해 준다"
   ]
  },
  {
   "cell_type": "code",
   "execution_count": 144,
   "id": "9dd8d2cf",
   "metadata": {},
   "outputs": [
    {
     "data": {
      "text/plain": [
       "array([0, 1, 2, 3, 4, 5, 6, 7])"
      ]
     },
     "execution_count": 144,
     "metadata": {},
     "output_type": "execute_result"
    }
   ],
   "source": [
    "arr = np.arange(8)\n",
    "arr"
   ]
  },
  {
   "cell_type": "code",
   "execution_count": 145,
   "id": "9a9c91a6",
   "metadata": {},
   "outputs": [
    {
     "data": {
      "text/plain": [
       "array([[0, 1],\n",
       "       [2, 3],\n",
       "       [4, 5],\n",
       "       [6, 7]])"
      ]
     },
     "execution_count": 145,
     "metadata": {},
     "output_type": "execute_result"
    }
   ],
   "source": [
    "b = arr.reshape((4,2))\n",
    "b"
   ]
  },
  {
   "cell_type": "code",
   "execution_count": 146,
   "id": "ee118ab0",
   "metadata": {},
   "outputs": [
    {
     "data": {
      "text/plain": [
       "array([0, 1, 2, 3, 4, 5, 6, 7])"
      ]
     },
     "execution_count": 146,
     "metadata": {},
     "output_type": "execute_result"
    }
   ],
   "source": [
    "arr"
   ]
  },
  {
   "cell_type": "code",
   "execution_count": 47,
   "id": "e77287ad",
   "metadata": {},
   "outputs": [
    {
     "data": {
      "text/plain": [
       "array([[0, 1, 2, 3],\n",
       "       [4, 5, 6, 7]])"
      ]
     },
     "execution_count": 47,
     "metadata": {},
     "output_type": "execute_result"
    }
   ],
   "source": [
    "arr.reshape((2,4))"
   ]
  },
  {
   "cell_type": "code",
   "execution_count": 48,
   "id": "371461df",
   "metadata": {},
   "outputs": [
    {
     "data": {
      "text/plain": [
       "array([[ 0,  1,  2],\n",
       "       [ 3,  4,  5],\n",
       "       [ 6,  7,  8],\n",
       "       [ 9, 10, 11],\n",
       "       [12, 13, 14]])"
      ]
     },
     "execution_count": 48,
     "metadata": {},
     "output_type": "execute_result"
    }
   ],
   "source": [
    "arr = np.arange(15)\n",
    "arr.reshape((5, -1)) # -1이 들어가면 남은 크기만큼 해당 차원에 자동으로 할당해준다"
   ]
  },
  {
   "cell_type": "markdown",
   "id": "f7edc1fc",
   "metadata": {},
   "source": [
    "### numpy.random\n",
    "- NumPy의 random number 생성 관련 함수를 모아 놓은 것으로 다음과 같은 함수를 제공한다.\n",
    "\n",
    "|함수명|기능|\n",
    "|:---:|:---:|\n",
    "|seed| pseudo random 상태 설정|\n",
    "|shuffle| 조합 (combination)|\n",
    "|choice| 순열 (permutation)|\n",
    "|random_integers| uniform integer|\n",
    "|rand| uniform|\n",
    "|randn| Gaussian normal|"
   ]
  },
  {
   "cell_type": "markdown",
   "id": "584d759c",
   "metadata": {},
   "source": [
    "### concatenate( )\n",
    "- numpy array를 붙이는 method이다\n",
    "- axis argument의 정의에 따라 붙여지는 방향이 다르다"
   ]
  },
  {
   "cell_type": "code",
   "execution_count": 147,
   "id": "1e14ae79",
   "metadata": {},
   "outputs": [
    {
     "data": {
      "text/plain": [
       "array([[1, 2, 3],\n",
       "       [4, 5, 6]])"
      ]
     },
     "execution_count": 147,
     "metadata": {},
     "output_type": "execute_result"
    }
   ],
   "source": [
    "np.array([[1,2,3],[4,5,6]])"
   ]
  },
  {
   "cell_type": "code",
   "execution_count": 148,
   "id": "e7843a23",
   "metadata": {},
   "outputs": [
    {
     "data": {
      "text/plain": [
       "array([[ 7,  8,  9],\n",
       "       [10, 11, 12]])"
      ]
     },
     "execution_count": 148,
     "metadata": {},
     "output_type": "execute_result"
    }
   ],
   "source": [
    "np.array([[7,8,9],[10,11,12]])"
   ]
  },
  {
   "cell_type": "code",
   "execution_count": 149,
   "id": "6ab32b0c",
   "metadata": {},
   "outputs": [
    {
     "data": {
      "text/plain": [
       "array([[ 1,  2,  3],\n",
       "       [ 4,  5,  6],\n",
       "       [ 7,  8,  9],\n",
       "       [10, 11, 12]])"
      ]
     },
     "execution_count": 149,
     "metadata": {},
     "output_type": "execute_result"
    }
   ],
   "source": [
    "a1 = np.array([[1,2,3],[4,5,6]])\n",
    "a2 = np.array([[7,8,9],[10,11,12]])\n",
    "np.concatenate([a1,a2], axis = 0) # axis = 0 이면 1차원 방향으로 붙는다"
   ]
  },
  {
   "cell_type": "code",
   "execution_count": 150,
   "id": "903c0a98",
   "metadata": {},
   "outputs": [
    {
     "data": {
      "text/plain": [
       "array([[ 1,  2,  3,  7,  8,  9],\n",
       "       [ 4,  5,  6, 10, 11, 12]])"
      ]
     },
     "execution_count": 150,
     "metadata": {},
     "output_type": "execute_result"
    }
   ],
   "source": [
    "np.concatenate([a1,a2], axis = 1) # axis = 1 이면 2차원 방향으로 붙는다"
   ]
  },
  {
   "cell_type": "code",
   "execution_count": 51,
   "id": "098b95af",
   "metadata": {},
   "outputs": [
    {
     "data": {
      "text/plain": [
       "array([[[ 1,  2,  3],\n",
       "        [ 4,  5,  6]],\n",
       "\n",
       "       [[ 7,  8,  9],\n",
       "        [10, 11, 12]],\n",
       "\n",
       "       [[ 1,  2,  3],\n",
       "        [ 4,  5,  6]],\n",
       "\n",
       "       [[ 7,  8,  9],\n",
       "        [10, 11, 12]]])"
      ]
     },
     "execution_count": 51,
     "metadata": {},
     "output_type": "execute_result"
    }
   ],
   "source": [
    "a1 = np.array([[[1,2,3],[4,5,6]],[[7,8,9],[10,11,12]]])\n",
    "a2 = np.array([[[1,2,3],[4,5,6]],[[7,8,9],[10,11,12]]])\n",
    "np.concatenate([a1,a2], axis = 0)"
   ]
  },
  {
   "cell_type": "code",
   "execution_count": 52,
   "id": "f9692bdd",
   "metadata": {},
   "outputs": [
    {
     "data": {
      "text/plain": [
       "array([[[ 1,  2,  3],\n",
       "        [ 4,  5,  6],\n",
       "        [ 1,  2,  3],\n",
       "        [ 4,  5,  6]],\n",
       "\n",
       "       [[ 7,  8,  9],\n",
       "        [10, 11, 12],\n",
       "        [ 7,  8,  9],\n",
       "        [10, 11, 12]]])"
      ]
     },
     "execution_count": 52,
     "metadata": {},
     "output_type": "execute_result"
    }
   ],
   "source": [
    "np.concatenate([a1,a2], axis = 1)"
   ]
  },
  {
   "cell_type": "code",
   "execution_count": 53,
   "id": "0e0aa970",
   "metadata": {},
   "outputs": [
    {
     "data": {
      "text/plain": [
       "array([[[ 1,  2,  3,  1,  2,  3],\n",
       "        [ 4,  5,  6,  4,  5,  6]],\n",
       "\n",
       "       [[ 7,  8,  9,  7,  8,  9],\n",
       "        [10, 11, 12, 10, 11, 12]]])"
      ]
     },
     "execution_count": 53,
     "metadata": {},
     "output_type": "execute_result"
    }
   ],
   "source": [
    "np.concatenate([a1,a2], axis = 2)"
   ]
  },
  {
   "cell_type": "markdown",
   "id": "8e05ce75",
   "metadata": {},
   "source": [
    "### Fancy Indexing\n",
    "- 여러 개의 인덱스를 활용해 값을 추출하는데 사용한다\n",
    "- 정수 인덱싱과 boolean indexing 모두 가능하다"
   ]
  },
  {
   "cell_type": "code",
   "execution_count": 54,
   "id": "3c26e0ed",
   "metadata": {},
   "outputs": [
    {
     "name": "stdout",
     "output_type": "stream",
     "text": [
      "[0 2 4 6 8]\n"
     ]
    }
   ],
   "source": [
    "a = np.array([0,1,2,3,4,5,6,7,8,9])\n",
    "idx = np.array([True, False, True, False, True, False, True, False, True, False])\n",
    "print(a[idx])"
   ]
  },
  {
   "cell_type": "code",
   "execution_count": 152,
   "id": "781bcaef",
   "metadata": {},
   "outputs": [
    {
     "name": "stdout",
     "output_type": "stream",
     "text": [
      "[6 7 8 9]\n"
     ]
    }
   ],
   "source": [
    "a = np.array([0,1,2,3,4,5,6,7,8,9])\n",
    "print(a[5 < a])"
   ]
  },
  {
   "cell_type": "code",
   "execution_count": 55,
   "id": "87a75d98",
   "metadata": {},
   "outputs": [
    {
     "name": "stdout",
     "output_type": "stream",
     "text": [
      "[ 0 20 40 60 80]\n"
     ]
    }
   ],
   "source": [
    "a = np.array([0,1,2,3,4,5,6,7,8,9]) * 10\n",
    "idx = np.array([0,2,4,6,8])\n",
    "print(a[idx])"
   ]
  },
  {
   "cell_type": "markdown",
   "id": "61a58d13",
   "metadata": {},
   "source": [
    "### Pandas Series\n",
    "\n",
    "https://pandas.pydata.org/docs/\n",
    "\n",
    "- pandas의 Series는 1차원 데이터를 다루는 데 효과적인 자료구조이며ㅡ DataFrame은 행과 열로 구성된 2차원 데이터를 다루는 데 효과적인 자료구조이다\n",
    "- pandas의 Series는 어떤 면에서는 python의 list와 비슷하고 어떤 면에서는 python의 dictionary와 닮은 자료구조이다\n",
    "    - 정수를 사용해서 데이터를 선택하는 리스트 기능\n",
    "    - Label을 사용해서 데이터를 선택하는 사전 기능"
   ]
  },
  {
   "cell_type": "markdown",
   "id": "db9b8723",
   "metadata": {},
   "source": [
    "### 데이터를 Series로 저장해보기\n",
    "- Series 객체를 생성할 때 따로 인덱스를 지정하지 않으면 0부터 시작하는 정숫값으로 인덱싱된다"
   ]
  },
  {
   "cell_type": "code",
   "execution_count": 154,
   "id": "5a93e64a",
   "metadata": {},
   "outputs": [
    {
     "name": "stdout",
     "output_type": "stream",
     "text": [
      "0    92600\n",
      "1    92400\n",
      "2    92100\n",
      "3    94300\n",
      "4    92300\n",
      "dtype: int64\n"
     ]
    }
   ],
   "source": [
    "import pandas as pd\n",
    "\n",
    "kakao = pd.Series([92600, 92400, 92100, 94300, 92300])\n",
    "print(kakao)"
   ]
  },
  {
   "cell_type": "markdown",
   "id": "2f733c36",
   "metadata": {},
   "source": [
    "인덱스를 지정하지 않는 경우, 자동으로 정숫값 indexing된다"
   ]
  },
  {
   "cell_type": "code",
   "execution_count": 155,
   "id": "f366e5a6",
   "metadata": {},
   "outputs": [
    {
     "name": "stdout",
     "output_type": "stream",
     "text": [
      "2017-03-03    92600\n",
      "2017-03-06    92400\n",
      "2017-03-07    92100\n",
      "2017-03-08    94300\n",
      "2017-03-09    92300\n",
      "dtype: int64\n"
     ]
    }
   ],
   "source": [
    "kakao2 = pd.Series([92600, 92400, 92100, 94300, 92300], \n",
    "                   index = ['2017-03-03', '2017-03-06', '2017-03-07', '2017-03-08', '2017-03-09'])\n",
    "print(kakao2)"
   ]
  },
  {
   "cell_type": "code",
   "execution_count": 156,
   "id": "8f0c68ea",
   "metadata": {},
   "outputs": [
    {
     "name": "stdout",
     "output_type": "stream",
     "text": [
      "92300\n"
     ]
    }
   ],
   "source": [
    "print(kakao2['2017-03-09'])"
   ]
  },
  {
   "cell_type": "code",
   "execution_count": 158,
   "id": "80610632",
   "metadata": {},
   "outputs": [
    {
     "data": {
      "text/plain": [
       "92100"
      ]
     },
     "execution_count": 158,
     "metadata": {},
     "output_type": "execute_result"
    }
   ],
   "source": [
    "kakao2.iloc[2]"
   ]
  },
  {
   "cell_type": "code",
   "execution_count": 59,
   "id": "e931e140",
   "metadata": {},
   "outputs": [
    {
     "data": {
      "text/plain": [
       "DatetimeIndex(['2023-01-02', '2023-01-03', '2023-01-04', '2023-01-05',\n",
       "               '2023-01-06', '2023-01-07'],\n",
       "              dtype='datetime64[ns]', freq='D')"
      ]
     },
     "execution_count": 59,
     "metadata": {},
     "output_type": "execute_result"
    }
   ],
   "source": [
    "my_ind = pd.date_range('2023-01-02', periods = 6) # date_range method통해 datetime index 객체 생성가능\n",
    "my_ind"
   ]
  },
  {
   "cell_type": "code",
   "execution_count": 60,
   "id": "793908a2",
   "metadata": {},
   "outputs": [
    {
     "data": {
      "text/plain": [
       "2023-01-02    92600\n",
       "2023-01-03    93400\n",
       "2023-01-04    94500\n",
       "2023-01-05    93800\n",
       "2023-01-06    94000\n",
       "2023-01-07    93500\n",
       "Freq: D, dtype: int64"
      ]
     },
     "execution_count": 60,
     "metadata": {},
     "output_type": "execute_result"
    }
   ],
   "source": [
    "kakao2 = pd.Series([92600, 93400, 94500, 93800, 94000, 93500], index = my_ind) # index 변경 가능\n",
    "kakao2"
   ]
  },
  {
   "cell_type": "markdown",
   "id": "af8cd088",
   "metadata": {},
   "source": [
    "freq의 parameter로 'B' (Buisness day)를 넣으면, 공휴일은 자동으로 건너 뛴다"
   ]
  },
  {
   "cell_type": "code",
   "execution_count": 159,
   "id": "f381f6da",
   "metadata": {},
   "outputs": [
    {
     "name": "stdout",
     "output_type": "stream",
     "text": [
      "2023-01-05    92600\n",
      "2023-01-06    92400\n",
      "2023-01-09    92100\n",
      "2023-01-10    94300\n",
      "2023-01-11    92300\n",
      "Freq: B, dtype: int64\n"
     ]
    }
   ],
   "source": [
    "kakao2 = pd.Series([92600, 92400, 92100, 94300, 92300], \n",
    "                   index = pd.date_range('20230105', freq = 'B', periods = 5))\n",
    "print(kakao2)"
   ]
  },
  {
   "cell_type": "code",
   "execution_count": 162,
   "id": "e4bede84",
   "metadata": {},
   "outputs": [
    {
     "data": {
      "text/plain": [
       "DatetimeIndex(['2023-01-05', '2023-01-06', '2023-01-09', '2023-01-10',\n",
       "               '2023-01-11'],\n",
       "              dtype='datetime64[ns]', freq='B')"
      ]
     },
     "execution_count": 162,
     "metadata": {},
     "output_type": "execute_result"
    }
   ],
   "source": [
    "kakao2.index"
   ]
  },
  {
   "cell_type": "code",
   "execution_count": 163,
   "id": "8e1044af",
   "metadata": {},
   "outputs": [
    {
     "data": {
      "text/plain": [
       "array([92600, 92400, 92100, 94300, 92300])"
      ]
     },
     "execution_count": 163,
     "metadata": {},
     "output_type": "execute_result"
    }
   ],
   "source": [
    "kakao2.values"
   ]
  },
  {
   "cell_type": "markdown",
   "id": "98939480",
   "metadata": {},
   "source": [
    "- Pandas의 Series 객체에는 **index**와 **값**이 저장되어 있는데 Series 객체의 **index**와 **values**라는 이름의 속성을 통해 접근할 수 있다\n",
    "- 예를 들어, kakao2 객체의 index값과 저장된 종가를 각각 출력하는 코드는 다음과 같이 구현할 수 있다"
   ]
  },
  {
   "cell_type": "code",
   "execution_count": 62,
   "id": "ce2116b6",
   "metadata": {},
   "outputs": [
    {
     "name": "stdout",
     "output_type": "stream",
     "text": [
      "2023-01-05 00:00:00\n",
      "2023-01-06 00:00:00\n",
      "2023-01-09 00:00:00\n",
      "2023-01-10 00:00:00\n",
      "2023-01-11 00:00:00\n",
      "92600\n",
      "92400\n",
      "92100\n",
      "94300\n",
      "92300\n"
     ]
    }
   ],
   "source": [
    "for date in kakao2.index : print(date)\n",
    "for ending_price in kakao2.values : print(ending_price)"
   ]
  },
  {
   "cell_type": "markdown",
   "id": "1b7761b1",
   "metadata": {},
   "source": [
    "### Series 객체의 덧셈 연산\n",
    "- indexing이 서로 다른 경우에도 알아서 indexing이 같은 값들끼리 덧셈 연산을 수행한다"
   ]
  },
  {
   "cell_type": "code",
   "execution_count": 164,
   "id": "d00a80a0",
   "metadata": {},
   "outputs": [
    {
     "data": {
      "text/plain": [
       "naver    10\n",
       "sk       20\n",
       "kt       30\n",
       "dtype: int64"
      ]
     },
     "execution_count": 164,
     "metadata": {},
     "output_type": "execute_result"
    }
   ],
   "source": [
    "pd.Series([10, 20, 30], index = ['naver', 'sk', 'kt'])"
   ]
  },
  {
   "cell_type": "code",
   "execution_count": 165,
   "id": "b0924aa5",
   "metadata": {},
   "outputs": [
    {
     "data": {
      "text/plain": [
       "kt       10\n",
       "naver    30\n",
       "sk       20\n",
       "dtype: int64"
      ]
     },
     "execution_count": 165,
     "metadata": {},
     "output_type": "execute_result"
    }
   ],
   "source": [
    "pd.Series([10, 30, 20], index = ['kt', 'naver', 'sk'])"
   ]
  },
  {
   "cell_type": "code",
   "execution_count": 63,
   "id": "3f563305",
   "metadata": {},
   "outputs": [
    {
     "name": "stdout",
     "output_type": "stream",
     "text": [
      "kt       40\n",
      "naver    40\n",
      "sk       40\n",
      "dtype: int64\n"
     ]
    }
   ],
   "source": [
    "mine = pd.Series([10, 20, 30], index = ['naver', 'sk', 'kt'])\n",
    "friend = pd.Series([10, 30, 20], index = ['kt', 'naver', 'sk'])\n",
    "merge = mine + friend\n",
    "print(merge)"
   ]
  },
  {
   "cell_type": "markdown",
   "id": "1dca9146",
   "metadata": {},
   "source": [
    "### Example 2.\n",
    "- pandas와 numpy의 관계를 확인해 보자"
   ]
  },
  {
   "cell_type": "code",
   "execution_count": 64,
   "id": "f738fcf8",
   "metadata": {},
   "outputs": [
    {
     "name": "stdout",
     "output_type": "stream",
     "text": [
      "0     3\n",
      "1     6\n",
      "2     9\n",
      "3    12\n",
      "dtype: int64\n",
      "<class 'pandas.core.series.Series'>\n",
      "4\n"
     ]
    }
   ],
   "source": [
    "obj = pd.Series([3,6,9,12])\n",
    "print(obj)\n",
    "print(type(obj)) # Series\n",
    "print(len(obj)) # data의 길이"
   ]
  },
  {
   "cell_type": "code",
   "execution_count": 65,
   "id": "3a960ff9",
   "metadata": {},
   "outputs": [
    {
     "data": {
      "text/plain": [
       "a     3\n",
       "b     6\n",
       "c     9\n",
       "d    12\n",
       "dtype: int64"
      ]
     },
     "execution_count": 65,
     "metadata": {},
     "output_type": "execute_result"
    }
   ],
   "source": [
    "obj = pd.Series([3,6,9,12], index = ['a','b','c','d']) # string 인덱스 가능\n",
    "obj"
   ]
  },
  {
   "cell_type": "code",
   "execution_count": 66,
   "id": "8d647568",
   "metadata": {},
   "outputs": [
    {
     "data": {
      "text/plain": [
       "김철수    5000\n",
       "김철호    7000\n",
       "한상민    4000\n",
       "문대용    4500\n",
       "dtype: int64"
      ]
     },
     "execution_count": 66,
     "metadata": {},
     "output_type": "execute_result"
    }
   ],
   "source": [
    "emp = {'김철수' : 5000, '김철호' : 7000, '한상민' : 4000, '문대용' : 4500} # dictionary 이용\n",
    "obj = pd.Series(emp)\n",
    "obj"
   ]
  },
  {
   "cell_type": "markdown",
   "id": "1521458a",
   "metadata": {},
   "source": [
    "### Series Method"
   ]
  },
  {
   "cell_type": "code",
   "execution_count": 67,
   "id": "b3866c84",
   "metadata": {},
   "outputs": [
    {
     "data": {
      "text/plain": [
       "30"
      ]
     },
     "execution_count": 67,
     "metadata": {},
     "output_type": "execute_result"
    }
   ],
   "source": [
    "my_se = pd.Series([10,20,30])\n",
    "my_se[2] # indexing"
   ]
  },
  {
   "cell_type": "code",
   "execution_count": 68,
   "id": "d1923c1c",
   "metadata": {},
   "outputs": [
    {
     "data": {
      "text/plain": [
       "Samsung    10\n",
       "Naver      20\n",
       "LG         30\n",
       "dtype: int64"
      ]
     },
     "execution_count": 68,
     "metadata": {},
     "output_type": "execute_result"
    }
   ],
   "source": [
    "my_se1 = pd.Series([10,20,30], index = ['Samsung','Naver','LG'])\n",
    "my_se1"
   ]
  },
  {
   "cell_type": "code",
   "execution_count": 69,
   "id": "365a7258",
   "metadata": {},
   "outputs": [
    {
     "data": {
      "text/plain": [
       "30"
      ]
     },
     "execution_count": 69,
     "metadata": {},
     "output_type": "execute_result"
    }
   ],
   "source": [
    "my_se1['LG'] # 문자열 인덱스는 문자열로 indexing을 해야 한다"
   ]
  },
  {
   "cell_type": "code",
   "execution_count": 70,
   "id": "b5aa3544",
   "metadata": {},
   "outputs": [
    {
     "data": {
      "text/plain": [
       "30"
      ]
     },
     "execution_count": 70,
     "metadata": {},
     "output_type": "execute_result"
    }
   ],
   "source": [
    "my_se1.iloc[2] # 정수로 인덱싱을 원하면 iloc method를 사용해야 한다"
   ]
  },
  {
   "cell_type": "code",
   "execution_count": 71,
   "id": "72b448da",
   "metadata": {},
   "outputs": [
    {
     "data": {
      "text/plain": [
       "Samsung    10\n",
       "Naver      20\n",
       "LG         30\n",
       "dtype: int64"
      ]
     },
     "execution_count": 71,
     "metadata": {},
     "output_type": "execute_result"
    }
   ],
   "source": [
    "my_se1.sort_values() # value값 기준으로 정렬, default는 오름차순"
   ]
  },
  {
   "cell_type": "code",
   "execution_count": 72,
   "id": "900bee02",
   "metadata": {},
   "outputs": [
    {
     "data": {
      "text/plain": [
       "LG         30\n",
       "Naver      20\n",
       "Samsung    10\n",
       "dtype: int64"
      ]
     },
     "execution_count": 72,
     "metadata": {},
     "output_type": "execute_result"
    }
   ],
   "source": [
    "my_se1.sort_index() # index값 기준으로 정렬, default는 사전순"
   ]
  },
  {
   "cell_type": "code",
   "execution_count": 73,
   "id": "b4a411c0",
   "metadata": {},
   "outputs": [
    {
     "data": {
      "text/plain": [
       "2    30\n",
       "1    20\n",
       "0    10\n",
       "dtype: int64"
      ]
     },
     "execution_count": 73,
     "metadata": {},
     "output_type": "execute_result"
    }
   ],
   "source": [
    "my_se.sort_values(ascending = False) # ascending argument를 통해 정렬 기준을 반대로 할 수 있다"
   ]
  },
  {
   "cell_type": "code",
   "execution_count": 74,
   "id": "29f7dc66",
   "metadata": {},
   "outputs": [
    {
     "data": {
      "text/plain": [
       "Samsung     NaN\n",
       "Naver      20.0\n",
       "LG         30.0\n",
       "dtype: float64"
      ]
     },
     "execution_count": 74,
     "metadata": {},
     "output_type": "execute_result"
    }
   ],
   "source": [
    "my_se1.where(my_se1 > 15) "
   ]
  },
  {
   "cell_type": "markdown",
   "id": "1387d1d3",
   "metadata": {},
   "source": [
    "NaN은 **Not a Number**이라는 뜻으로, float형 데이터지만 아무런 숫자 정보가 없는 데이터이다\n",
    "- dropna(   ) method를 통해 제거가 가능하다"
   ]
  },
  {
   "cell_type": "code",
   "execution_count": 75,
   "id": "42affa44",
   "metadata": {},
   "outputs": [
    {
     "data": {
      "text/plain": [
       "Naver    20.0\n",
       "LG       30.0\n",
       "dtype: float64"
      ]
     },
     "execution_count": 75,
     "metadata": {},
     "output_type": "execute_result"
    }
   ],
   "source": [
    "my_se1.where(my_se1 > 15).dropna() # NaN 제거 가능"
   ]
  },
  {
   "cell_type": "code",
   "execution_count": 76,
   "id": "3bfe13a5",
   "metadata": {},
   "outputs": [
    {
     "data": {
      "text/plain": [
       "Samsung    20\n",
       "Naver      20\n",
       "Kakao      30\n",
       "dtype: int64"
      ]
     },
     "execution_count": 76,
     "metadata": {},
     "output_type": "execute_result"
    }
   ],
   "source": [
    "buy_stock = pd.Series([20,20,30], index = ['Samsung','Naver','Kakao'])\n",
    "buy_stock"
   ]
  },
  {
   "cell_type": "code",
   "execution_count": 77,
   "id": "fe944349",
   "metadata": {},
   "outputs": [
    {
     "data": {
      "text/plain": [
       "Kakao       NaN\n",
       "LG          NaN\n",
       "Naver      40.0\n",
       "Samsung    30.0\n",
       "dtype: float64"
      ]
     },
     "execution_count": 77,
     "metadata": {},
     "output_type": "execute_result"
    }
   ],
   "source": [
    "my_se1 + buy_stock # 단순히 합치면 인덱스가 겹치지 않는 부분은 NaN값으로 채워진다"
   ]
  },
  {
   "cell_type": "code",
   "execution_count": 78,
   "id": "745a77fb",
   "metadata": {},
   "outputs": [
    {
     "data": {
      "text/plain": [
       "Kakao      30.0\n",
       "LG         30.0\n",
       "Naver      40.0\n",
       "Samsung    30.0\n",
       "dtype: float64"
      ]
     },
     "execution_count": 78,
     "metadata": {},
     "output_type": "execute_result"
    }
   ],
   "source": [
    "new_my_se1 = my_se1.add(buy_stock, fill_value = 0) \n",
    "# add method에서 fill_value를 0으로 지정하면 NaN값으로 바뀌지 않는다\n",
    "new_my_se1"
   ]
  },
  {
   "cell_type": "markdown",
   "id": "0c5610ed",
   "metadata": {},
   "source": [
    "- add는 이항연산이므로, operand가 NaN일 경우 대체될 value를 fill_value로 지정하면 NaN값이 되지 않는다\n",
    "- 연산에 NaN이 포함되면, float64로 바뀐다"
   ]
  },
  {
   "cell_type": "code",
   "execution_count": 79,
   "id": "85658419",
   "metadata": {},
   "outputs": [
    {
     "data": {
      "text/plain": [
       "Kakao      30\n",
       "LG         30\n",
       "Naver      40\n",
       "Samsung    30\n",
       "dtype: int64"
      ]
     },
     "execution_count": 79,
     "metadata": {},
     "output_type": "execute_result"
    }
   ],
   "source": [
    "new_my_se2 = new_my_se1.astype('int64')\n",
    "new_my_se2 # astype method를 통해 data type을 바꿀 수 있다"
   ]
  },
  {
   "cell_type": "code",
   "execution_count": 80,
   "id": "8d41c79d",
   "metadata": {},
   "outputs": [
    {
     "data": {
      "text/plain": [
       "Kakao       NaN\n",
       "LG          0.0\n",
       "Naver      10.0\n",
       "Samsung   -10.0\n",
       "dtype: float64"
      ]
     },
     "execution_count": 80,
     "metadata": {},
     "output_type": "execute_result"
    }
   ],
   "source": [
    "new_my_se2.diff() # diff method를 사용하면 앞, 뒤 value의 차이를 계산해 준다"
   ]
  },
  {
   "cell_type": "code",
   "execution_count": 81,
   "id": "4d66e3cc",
   "metadata": {},
   "outputs": [
    {
     "data": {
      "text/plain": [
       "Kakao       NaN\n",
       "LG         30.0\n",
       "Naver      30.0\n",
       "Samsung    40.0\n",
       "dtype: float64"
      ]
     },
     "execution_count": 81,
     "metadata": {},
     "output_type": "execute_result"
    }
   ],
   "source": [
    "new_my_se2.shift(1) # shift method는 인수로 입력된 수만큼 value를 뒤로 밀어준다"
   ]
  },
  {
   "cell_type": "markdown",
   "id": "00eb69bf",
   "metadata": {},
   "source": [
    "### Statistical Method\n",
    "- Numpy와 Pandas에서는 기본적인 통계 method를 제공한다"
   ]
  },
  {
   "cell_type": "markdown",
   "id": "4cf5675c",
   "metadata": {},
   "source": [
    "### Example 3.\n",
    "- pandas datareader를 이용해 통계 관련 method를 직접 사용해 보자"
   ]
  },
  {
   "cell_type": "code",
   "execution_count": 167,
   "id": "492659f9",
   "metadata": {},
   "outputs": [],
   "source": [
    "#pip install pandas_datareader\n",
    "import datetime\n",
    "import pandas_datareader as wb\n",
    "\n",
    "start = datetime.datetime(2022, 2, 1)\n",
    "end = datetime.datetime(2023, 2, 18)\n",
    "df_null = wb.DataReader(\"KOSPI\", \"naver\", start, end)\n",
    "series = df_null['Close'].dropna().astype('float')"
   ]
  },
  {
   "cell_type": "code",
   "execution_count": 168,
   "id": "ea0c1b97",
   "metadata": {},
   "outputs": [
    {
     "data": {
      "text/plain": [
       "Date\n",
       "2022-02-03    2707.82\n",
       "2022-02-04    2750.26\n",
       "2022-02-07    2745.06\n",
       "2022-02-08    2746.47\n",
       "2022-02-09    2768.85\n",
       "               ...   \n",
       "2023-02-13    2452.70\n",
       "2023-02-14    2465.64\n",
       "2023-02-15    2427.90\n",
       "2023-02-16    2475.48\n",
       "2023-02-17    2451.21\n",
       "Name: Close, Length: 259, dtype: float64"
      ]
     },
     "execution_count": 168,
     "metadata": {},
     "output_type": "execute_result"
    }
   ],
   "source": [
    "series"
   ]
  },
  {
   "cell_type": "code",
   "execution_count": 169,
   "id": "81dc745a",
   "metadata": {},
   "outputs": [],
   "source": [
    "numpy = series.values"
   ]
  },
  {
   "cell_type": "code",
   "execution_count": 85,
   "id": "9a9d798a",
   "metadata": {},
   "outputs": [
    {
     "data": {
      "text/plain": [
       "array([2707.82, 2750.26, 2745.06, 2746.47, 2768.85])"
      ]
     },
     "execution_count": 85,
     "metadata": {},
     "output_type": "execute_result"
    }
   ],
   "source": [
    "numpy[:5]"
   ]
  },
  {
   "cell_type": "code",
   "execution_count": 170,
   "id": "46996805",
   "metadata": {},
   "outputs": [
    {
     "data": {
      "text/plain": [
       "2480.3379922779923"
      ]
     },
     "execution_count": 170,
     "metadata": {},
     "output_type": "execute_result"
    }
   ],
   "source": [
    "numpy.mean() # mean"
   ]
  },
  {
   "cell_type": "code",
   "execution_count": 171,
   "id": "178d657a",
   "metadata": {},
   "outputs": [
    {
     "data": {
      "text/plain": [
       "26966.697910254767"
      ]
     },
     "execution_count": 171,
     "metadata": {},
     "output_type": "execute_result"
    }
   ],
   "source": [
    "numpy.var() # variance"
   ]
  },
  {
   "cell_type": "code",
   "execution_count": 172,
   "id": "ad2950be",
   "metadata": {},
   "outputs": [
    {
     "data": {
      "text/plain": [
       "164.21540095330514"
      ]
     },
     "execution_count": 172,
     "metadata": {},
     "output_type": "execute_result"
    }
   ],
   "source": [
    "numpy.std() # standard deviation"
   ]
  },
  {
   "cell_type": "code",
   "execution_count": 173,
   "id": "8a5ad127",
   "metadata": {},
   "outputs": [
    {
     "data": {
      "text/plain": [
       "2480.337992277992"
      ]
     },
     "execution_count": 173,
     "metadata": {},
     "output_type": "execute_result"
    }
   ],
   "source": [
    "series.mean() # series도 문법은 똑같다"
   ]
  },
  {
   "cell_type": "code",
   "execution_count": 174,
   "id": "e173f959",
   "metadata": {},
   "outputs": [
    {
     "data": {
      "text/plain": [
       "0.1693405209880775"
      ]
     },
     "execution_count": 174,
     "metadata": {},
     "output_type": "execute_result"
    }
   ],
   "source": [
    "series.skew() # skewness"
   ]
  },
  {
   "cell_type": "code",
   "execution_count": 175,
   "id": "d282977e",
   "metadata": {},
   "outputs": [
    {
     "data": {
      "text/plain": [
       "-1.0690420791096618"
      ]
     },
     "execution_count": 175,
     "metadata": {},
     "output_type": "execute_result"
    }
   ],
   "source": [
    "series.kurt() # kurtosis"
   ]
  },
  {
   "cell_type": "code",
   "execution_count": 176,
   "id": "af5f3415",
   "metadata": {},
   "outputs": [
    {
     "name": "stdout",
     "output_type": "stream",
     "text": [
      "<class 'pandas.core.series.Series'>\n",
      "DatetimeIndex: 259 entries, 2022-02-03 to 2023-02-17\n",
      "Series name: Close\n",
      "Non-Null Count  Dtype  \n",
      "--------------  -----  \n",
      "259 non-null    float64\n",
      "dtypes: float64(1)\n",
      "memory usage: 4.0 KB\n"
     ]
    }
   ],
   "source": [
    "series.info()"
   ]
  },
  {
   "cell_type": "code",
   "execution_count": 177,
   "id": "ddc76490",
   "metadata": {},
   "outputs": [
    {
     "data": {
      "text/plain": [
       "2449.54"
      ]
     },
     "execution_count": 177,
     "metadata": {},
     "output_type": "execute_result"
    }
   ],
   "source": [
    "np.median(numpy) # median은 함수로 확인 가능하다"
   ]
  },
  {
   "cell_type": "code",
   "execution_count": 178,
   "id": "e51d2bf6",
   "metadata": {},
   "outputs": [
    {
     "data": {
      "text/plain": [
       "2771.93"
      ]
     },
     "execution_count": 178,
     "metadata": {},
     "output_type": "execute_result"
    }
   ],
   "source": [
    "np.max(numpy) # maximum"
   ]
  },
  {
   "cell_type": "code",
   "execution_count": 179,
   "id": "b3433418",
   "metadata": {},
   "outputs": [
    {
     "data": {
      "text/plain": [
       "2155.49"
      ]
     },
     "execution_count": 179,
     "metadata": {},
     "output_type": "execute_result"
    }
   ],
   "source": [
    "np.min(numpy) # minimum"
   ]
  },
  {
   "cell_type": "code",
   "execution_count": 180,
   "id": "ca96de3d",
   "metadata": {},
   "outputs": [
    {
     "data": {
      "text/plain": [
       "2771.93"
      ]
     },
     "execution_count": 180,
     "metadata": {},
     "output_type": "execute_result"
    }
   ],
   "source": [
    "numpy.max()"
   ]
  },
  {
   "cell_type": "code",
   "execution_count": 96,
   "id": "0a5e2e47",
   "metadata": {},
   "outputs": [
    {
     "data": {
      "text/plain": [
       "2155.49"
      ]
     },
     "execution_count": 96,
     "metadata": {},
     "output_type": "execute_result"
    }
   ],
   "source": [
    "numpy.min() # method도 가능"
   ]
  },
  {
   "cell_type": "code",
   "execution_count": 97,
   "id": "e56b0302",
   "metadata": {},
   "outputs": [
    {
     "data": {
      "text/plain": [
       "642407.54"
      ]
     },
     "execution_count": 97,
     "metadata": {},
     "output_type": "execute_result"
    }
   ],
   "source": [
    "numpy.sum() # sum"
   ]
  },
  {
   "cell_type": "code",
   "execution_count": 98,
   "id": "b0e974d4",
   "metadata": {},
   "outputs": [
    {
     "data": {
      "text/plain": [
       "array([  2707.82,   5458.08,   8203.14,  10949.61,  13718.46,  16490.39,\n",
       "        19238.1 ,  21942.58,  24619.12,  27348.8 ,  30092.89,  32837.41,\n",
       "        35581.21,  38288.  ,  41007.53,  43656.33,  46333.09,  49032.27,\n",
       "        51735.79,  54482.87,  57196.3 ,  59847.61,  62470.01,  65150.33,\n",
       "        67811.61,  70457.26,  73078.79,  75738.02,  78432.53,  81139.55,\n",
       "        83825.6 ,  86535.6 ,  89270.65,  92000.31,  94730.29,  97459.85,\n",
       "       100200.92, 102947.66, 105705.31, 108445.16, 111203.06, 113962.26,\n",
       "       116697.29, 119393.15, 122093.54, 124786.64, 127453.4 , 130169.89,\n",
       "       132886.6 , 135582.66, 138275.87, 140994.76, 143713.45, 146441.66,\n",
       "       149146.37, 151803.5 , 154471.81, 157110.87, 159778.36, 162473.41,\n",
       "       165160.86, 167841.32, 170518.89, 173163.4 , 175774.21, 178370.77,\n",
       "       180963.04, 183513.12, 186117.36, 188713.94, 191334.38, 193960.36,\n",
       "       196552.7 , 199191.99, 201839.37, 204445.24, 207062.46, 209674.91,\n",
       "       212312.96, 214982.62, 217668.52, 220327.51, 222998.16, 225624.5 ,\n",
       "       228250.65, 230876.09, 233471.96, 235976.47, 238469.44, 240916.82,\n",
       "       243368.23, 245809.16, 248200.19, 250609.12, 252951.93, 255266.25,\n",
       "       257632.85, 260034.77, 262456.86, 264834.85, 267167.49, 269472.91,\n",
       "       271773.25, 274115.03, 276407.04, 278741.31, 281091.92, 283432.19,\n",
       "       285749.95, 288078.56, 290400.88, 292731.86, 295107.11, 297478.08,\n",
       "       299864.93, 302274.09, 304667.23, 307070.92, 309483.88, 311899.41,\n",
       "       314334.68, 316786.18, 319238.43, 321678.05, 324139.5 , 326612.61,\n",
       "       329103.41, 331596.51, 334099.97, 336580.85, 339104.63, 341632.57,\n",
       "       344166.09, 346682.56, 349190.61, 351683.3 , 354145.8 , 356581.14,\n",
       "       359028.59, 361505.85, 363986.88, 366413.77, 368864.7 , 371336.75,\n",
       "       373752.36, 376161.77, 378565.45, 380975.47, 383351.93, 385736.21,\n",
       "       388185.75, 390597.17, 392999.  , 395381.78, 397737.44, 400105.29,\n",
       "       402452.5 , 404784.81, 407074.81, 409295.75, 411519.61, 413688.9 ,\n",
       "       415859.83, 418015.32, 420224.7 , 422439.92, 424677.78, 426910.62,\n",
       "       429102.69, 431305.16, 433468.03, 435680.58, 437900.29, 440150.24,\n",
       "       442387.68, 444605.77, 446818.89, 449055.05, 451290.12, 453539.68,\n",
       "       455828.46, 458096.86, 460390.47, 462725.69, 465062.56, 467391.73,\n",
       "       469740.16, 472111.95, 474510.99, 476935.4 , 479337.63, 481820.79,\n",
       "       484295.44, 486775.77, 489253.22, 491696.12, 494140.6 , 496560.1 ,\n",
       "       498965.37, 501383.38, 503824.71, 506262.57, 508670.84, 511104.23,\n",
       "       513576.76, 516056.6 , 518490.93, 520910.25, 523303.41, 525686.22,\n",
       "       528057.3 , 530446.34, 532819.36, 535191.76, 537591.01, 539951.98,\n",
       "       542312.  , 544664.17, 546997.46, 549326.41, 551683.14, 553996.83,\n",
       "       556313.97, 558646.76, 560927.21, 563163.61, 565389.28, 567607.96,\n",
       "       569863.94, 572128.59, 574418.56, 576768.75, 579120.06, 581479.59,\n",
       "       583844.69, 586230.78, 588630.64, 591010.03, 593378.35, 595758.69,\n",
       "       598153.95, 600582.52, 603051.17, 605535.19, 607985.66, 610410.74,\n",
       "       612860.54, 615329.42, 617809.82, 620248.01, 622699.72, 625183.36,\n",
       "       627664.88, 630134.61, 632587.31, 635052.95, 637480.85, 639956.33,\n",
       "       642407.54])"
      ]
     },
     "execution_count": 98,
     "metadata": {},
     "output_type": "execute_result"
    }
   ],
   "source": [
    "numpy.cumsum() # cumulated sum"
   ]
  },
  {
   "cell_type": "markdown",
   "id": "a642e219",
   "metadata": {},
   "source": [
    "### Assignment 1.\n",
    "pandas datareader library는 data를 읽어들여 pandas의 dataframe 객체로 저장하는데 도움이 되는 라이브러리 입니다"
   ]
  },
  {
   "cell_type": "code",
   "execution_count": 1,
   "id": "649d59b6",
   "metadata": {},
   "outputs": [],
   "source": [
    "#pip install pandas_datareader\n",
    "import datetime\n",
    "import pandas_datareader as wb\n",
    "\n",
    "start = datetime.datetime(2012, 1, 1)\n",
    "end = datetime.datetime(2023, 2, 18)\n",
    "null = wb.DataReader(\"KOSPI\", \"naver\", start, end)\n",
    "series = null['Close'].dropna().astype('float')"
   ]
  },
  {
   "cell_type": "markdown",
   "id": "7c00f01b",
   "metadata": {},
   "source": [
    "series에는 2012년 1월 1일부터 2023년 2월 18일간 코스피 데이터가 저장되어 있는 Pandas Series 객체입니다"
   ]
  },
  {
   "cell_type": "code",
   "execution_count": 5,
   "id": "31f7b961",
   "metadata": {},
   "outputs": [
    {
     "data": {
      "text/plain": [
       "Date\n",
       "2012-01-02    1826.37\n",
       "2012-01-03    1875.41\n",
       "2012-01-04    1866.22\n",
       "2012-01-05    1863.74\n",
       "2012-01-06    1843.14\n",
       "               ...   \n",
       "2023-02-13    2452.70\n",
       "2023-02-14    2465.64\n",
       "2023-02-15    2427.90\n",
       "2023-02-16    2475.48\n",
       "2023-02-17    2451.21\n",
       "Name: Close, Length: 2742, dtype: float64"
      ]
     },
     "execution_count": 5,
     "metadata": {},
     "output_type": "execute_result"
    }
   ],
   "source": [
    "import numpy as np, pandas as pd\n",
    "series"
   ]
  },
  {
   "cell_type": "markdown",
   "id": "8f0c001f",
   "metadata": {},
   "source": [
    "5일, 20일, 60일, 120일 이동평균을 계산하는 함수(혹은 클래스)를 작성하고 결과를 출력하세요"
   ]
  },
  {
   "cell_type": "code",
   "execution_count": 6,
   "id": "7dd2d9cc",
   "metadata": {},
   "outputs": [],
   "source": [
    "def moving_average(p, num) :\n",
    "    MA = []\n",
    "    Q = [] \n",
    "    mSum = p[0] * num\n",
    "    for i in range(num) : Q.append(p[0])\n",
    "    for M in p :\n",
    "        mSum = mSum - Q.pop(0) \n",
    "        mSum += M\n",
    "        MA.append(mSum/num) \n",
    "        Q.append(M) \n",
    "    MA = pd.Series(MA, index = series.index)\n",
    "    return MA"
   ]
  },
  {
   "cell_type": "code",
   "execution_count": 7,
   "id": "721ad81e",
   "metadata": {},
   "outputs": [],
   "source": [
    "MA5 = moving_average(series, 5)"
   ]
  },
  {
   "cell_type": "code",
   "execution_count": 8,
   "id": "788cfd7d",
   "metadata": {},
   "outputs": [],
   "source": [
    "MA20 = moving_average(series, 20)\n",
    "MA60 = moving_average(series, 60)\n",
    "MA120 = moving_average(series, 120)"
   ]
  },
  {
   "cell_type": "code",
   "execution_count": 9,
   "id": "fdbb6f6e",
   "metadata": {},
   "outputs": [
    {
     "data": {
      "text/plain": [
       "Date\n",
       "2012-01-02    1826.370\n",
       "2012-01-03    1836.178\n",
       "2012-01-04    1844.148\n",
       "2012-01-05    1851.622\n",
       "2012-01-06    1854.976\n",
       "                ...   \n",
       "2023-02-13    2467.860\n",
       "2023-02-14    2470.646\n",
       "2023-02-15    2459.498\n",
       "2023-02-16    2458.290\n",
       "2023-02-17    2454.586\n",
       "Length: 2742, dtype: float64"
      ]
     },
     "execution_count": 9,
     "metadata": {},
     "output_type": "execute_result"
    }
   ],
   "source": [
    "MA5"
   ]
  },
  {
   "cell_type": "code",
   "execution_count": 10,
   "id": "4dec0936",
   "metadata": {},
   "outputs": [
    {
     "data": {
      "text/plain": [
       "Date\n",
       "2012-01-02    1826.3700\n",
       "2012-01-03    1828.8220\n",
       "2012-01-04    1830.8145\n",
       "2012-01-05    1832.6830\n",
       "2012-01-06    1833.5215\n",
       "                ...    \n",
       "2023-02-13    2437.1310\n",
       "2023-02-14    2441.1085\n",
       "2023-02-15    2442.5105\n",
       "2023-02-16    2447.3150\n",
       "2023-02-17    2451.4595\n",
       "Length: 2742, dtype: float64"
      ]
     },
     "execution_count": 10,
     "metadata": {},
     "output_type": "execute_result"
    }
   ],
   "source": [
    "MA20"
   ]
  },
  {
   "cell_type": "code",
   "execution_count": 11,
   "id": "ed74094e",
   "metadata": {},
   "outputs": [
    {
     "data": {
      "text/plain": [
       "Date\n",
       "2012-01-02    1826.370000\n",
       "2012-01-03    1827.187333\n",
       "2012-01-04    1827.851500\n",
       "2012-01-05    1828.474333\n",
       "2012-01-06    1828.753833\n",
       "                 ...     \n",
       "2023-02-13    2388.901500\n",
       "2023-02-14    2389.280500\n",
       "2023-02-15    2389.004167\n",
       "2023-02-16    2389.937167\n",
       "2023-02-17    2390.702833\n",
       "Length: 2742, dtype: float64"
      ]
     },
     "execution_count": 11,
     "metadata": {},
     "output_type": "execute_result"
    }
   ],
   "source": [
    "MA60"
   ]
  },
  {
   "cell_type": "code",
   "execution_count": 12,
   "id": "d893cad9",
   "metadata": {},
   "outputs": [
    {
     "data": {
      "text/plain": [
       "Date\n",
       "2012-01-02    1826.370000\n",
       "2012-01-03    1826.778667\n",
       "2012-01-04    1827.110750\n",
       "2012-01-05    1827.422167\n",
       "2012-01-06    1827.561917\n",
       "                 ...     \n",
       "2023-02-13    2361.639167\n",
       "2023-02-14    2361.413750\n",
       "2023-02-15    2361.125417\n",
       "2023-02-16    2361.459917\n",
       "2023-02-17    2361.491250\n",
       "Length: 2742, dtype: float64"
      ]
     },
     "execution_count": 12,
     "metadata": {},
     "output_type": "execute_result"
    }
   ],
   "source": [
    "MA120"
   ]
  },
  {
   "cell_type": "code",
   "execution_count": 13,
   "id": "e4276384",
   "metadata": {},
   "outputs": [
    {
     "data": {
      "image/png": "[encoded data removed]",
      "text/plain": [
       "<Figure size 1500x500 with 1 Axes>"
      ]
     },
     "metadata": {},
     "output_type": "display_data"
    }
   ],
   "source": [
    "import matplotlib.pyplot as plt\n",
    "plt.style.use('seaborn')\n",
    "plt.figure(figsize = (15,5))\n",
    "plt.grid(False)\n",
    "plt.plot(series)\n",
    "plt.plot(MA5)\n",
    "plt.plot(MA20)\n",
    "plt.plot(MA60)\n",
    "plt.plot(MA120)\n",
    "plt.show()"
   ]
  },
  {
   "cell_type": "markdown",
   "id": "85e62136",
   "metadata": {},
   "source": [
    "### Assignment 2.\n",
    "1번에 사용한 series를 활용해 다음을 수행하세요"
   ]
  },
  {
   "cell_type": "markdown",
   "id": "3ec418bf",
   "metadata": {},
   "source": [
    "#### Assignment 2-1.\n",
    "- 시계열 데이터의 안정성을 위해 로그 차분 데이터를 사용합니다. 로그 차분은 다음과 같이 계산됩니다\n",
    "\n",
    "$$r_t = \\ln{P_t} - \\ln{P_{t-1}}$$\n",
    "\n",
    "- $r_t$는 수익률, 즉 로그 차분이며, $P$는 가격 데이터입니다. t는 어느 한 기간을 의미합니다.\n",
    "\n",
    "Series를 활용해 로그 차분 데이터를 생성하세요"
   ]
  },
  {
   "cell_type": "code",
   "execution_count": 14,
   "id": "eb67004c",
   "metadata": {},
   "outputs": [],
   "source": [
    "ret = np.log(series).diff().dropna()"
   ]
  },
  {
   "cell_type": "code",
   "execution_count": 15,
   "id": "36f76b7b",
   "metadata": {},
   "outputs": [
    {
     "data": {
      "text/plain": [
       "Date\n",
       "2012-01-03    0.026497\n",
       "2012-01-04   -0.004912\n",
       "2012-01-05   -0.001330\n",
       "2012-01-06   -0.011115\n",
       "2012-01-09   -0.009075\n",
       "                ...   \n",
       "2023-02-13   -0.006919\n",
       "2023-02-14    0.005262\n",
       "2023-02-15   -0.015425\n",
       "2023-02-16    0.019408\n",
       "2023-02-17   -0.009853\n",
       "Name: Close, Length: 2741, dtype: float64"
      ]
     },
     "execution_count": 15,
     "metadata": {},
     "output_type": "execute_result"
    }
   ],
   "source": [
    "ret"
   ]
  },
  {
   "cell_type": "markdown",
   "id": "1581b37c",
   "metadata": {},
   "source": [
    "#### Assignment 2-2.\n",
    "series에 표시된 NaN값을 제거한 뒤, 다음을 수행하세요\n",
    "\n",
    "- 수익률이 변동한다는 것을 'Risk'라고 하며, 기간 리스크는 어느 한 기간의 수익률의 표준편차로 계산됩니다.\n",
    "\n",
    "2012년 1월 1일부터 2023년 2월 18일의 기간동안의 KOSPI의 총 위험은 얼마입니까?"
   ]
  },
  {
   "cell_type": "code",
   "execution_count": 16,
   "id": "1369ce5e",
   "metadata": {},
   "outputs": [
    {
     "data": {
      "text/plain": [
       "0.009839913528948464"
      ]
     },
     "execution_count": 16,
     "metadata": {},
     "output_type": "execute_result"
    }
   ],
   "source": [
    "ret.std()"
   ]
  },
  {
   "cell_type": "markdown",
   "id": "c728f4c0",
   "metadata": {},
   "source": [
    "#### Assignment 3.\n",
    "이동평균선에 관련된 지표는 다음과 같은 것들이 있습니다\n",
    "- MACD : 단기 이동평균(5일) - 장기 이동평균(60일)\n",
    "\n",
    "$$\\mathbf{MACD} = \\mathbf{MA}(5) - \\mathbf{MA}(60)$$\n",
    "\n",
    "- Signal : MACD의 이동 평균값\n",
    "\n",
    "$$\\mathbf{Signal} = \\mathbf {MA(MACD)}$$\n",
    "\n",
    "- Stochastic : 일정기간의 가격 변동폭 중 현재의 위치를 백분율로 표시한 것\n",
    "\n",
    "$$\\frac{P_t - \\min(P)}{\\max{(P)} - \\min{(P)}}$$"
   ]
  },
  {
   "cell_type": "markdown",
   "id": "f3012633",
   "metadata": {},
   "source": [
    "MACD를 구하는 함수와 5개의 MACD를 이용해 Signal을 계산하는 함수, Stochastic을 계산하는 함수를 만들어 pandas의 series형태로 출력하세요"
   ]
  },
  {
   "cell_type": "code",
   "execution_count": 17,
   "id": "2e00132f",
   "metadata": {},
   "outputs": [
    {
     "data": {
      "image/png": "[encoded data removed]",
      "text/plain": [
       "<Figure size 800x550 with 1 Axes>"
      ]
     },
     "metadata": {},
     "output_type": "display_data"
    }
   ],
   "source": [
    "MACD = moving_average((MA5 - MA60), 5)\n",
    "plt.plot(MACD)\n",
    "plt.show()"
   ]
  },
  {
   "cell_type": "code",
   "execution_count": 18,
   "id": "154a0efb",
   "metadata": {},
   "outputs": [
    {
     "data": {
      "text/plain": [
       "Date\n",
       "2012-01-02   -2.273737e-13\n",
       "2012-01-03    1.798133e+00\n",
       "2012-01-04    5.057433e+00\n",
       "2012-01-05    9.686967e+00\n",
       "2012-01-06    1.493140e+01\n",
       "                  ...     \n",
       "2023-02-13    7.516390e+01\n",
       "2023-02-14    7.775143e+01\n",
       "2023-02-15    7.681263e+01\n",
       "2023-02-16    7.496293e+01\n",
       "2023-02-17    7.261077e+01\n",
       "Length: 2742, dtype: float64"
      ]
     },
     "execution_count": 18,
     "metadata": {},
     "output_type": "execute_result"
    }
   ],
   "source": [
    "MACD"
   ]
  },
  {
   "cell_type": "code",
   "execution_count": 19,
   "id": "06f41533",
   "metadata": {},
   "outputs": [],
   "source": [
    "stochastic = (series - series.min()) / (series.max() - series.min())"
   ]
  },
  {
   "cell_type": "code",
   "execution_count": 20,
   "id": "9b2e923d",
   "metadata": {},
   "outputs": [
    {
     "data": {
      "text/plain": [
       "Date\n",
       "2012-01-02    0.199576\n",
       "2012-01-03    0.226119\n",
       "2012-01-04    0.221145\n",
       "2012-01-05    0.219802\n",
       "2012-01-06    0.208652\n",
       "                ...   \n",
       "2023-02-13    0.538578\n",
       "2023-02-14    0.545581\n",
       "2023-02-15    0.525155\n",
       "2023-02-16    0.550907\n",
       "2023-02-17    0.537771\n",
       "Name: Close, Length: 2742, dtype: float64"
      ]
     },
     "execution_count": 20,
     "metadata": {},
     "output_type": "execute_result"
    }
   ],
   "source": [
    "stochastic"
   ]
  },
  {
   "cell_type": "code",
   "execution_count": 21,
   "id": "6cfd5d08",
   "metadata": {},
   "outputs": [
    {
     "data": {
      "text/plain": [
       "[<matplotlib.lines.Line2D at 0x7ff2a2362d60>]"
      ]
     },
     "execution_count": 21,
     "metadata": {},
     "output_type": "execute_result"
    },
    {
     "data": {
      "image/png": "[encoded data removed]",
      "text/plain": [
       "<Figure size 800x550 with 1 Axes>"
      ]
     },
     "metadata": {},
     "output_type": "display_data"
    }
   ],
   "source": [
    "plt.plot(stochastic)"
   ]
  }
 ],
 "metadata": {
  "kernelspec": {
   "display_name": "Python 3 (ipykernel)",
   "language": "python",
   "name": "python3"
  },
  "language_info": {
   "codemirror_mode": {
    "name": "ipython",
    "version": 3
   },
   "file_extension": ".py",
   "mimetype": "text/x-python",
   "name": "python",
   "nbconvert_exporter": "python",
   "pygments_lexer": "ipython3",
   "version": "3.9.13"
  },
  "toc": {
   "base_numbering": 1,
   "nav_menu": {},
   "number_sections": true,
   "sideBar": true,
   "skip_h1_title": false,
   "title_cell": "Table of Contents",
   "title_sidebar": "Contents",
   "toc_cell": false,
   "toc_position": {},
   "toc_section_display": true,
   "toc_window_display": false
  }
 },
 "nbformat": 4,
 "nbformat_minor": 5
}
